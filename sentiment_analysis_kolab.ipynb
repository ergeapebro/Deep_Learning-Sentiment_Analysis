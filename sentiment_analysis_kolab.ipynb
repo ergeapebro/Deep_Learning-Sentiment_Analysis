{
 "cells": [
  {
   "cell_type": "markdown",
   "metadata": {
    "id": "L77vZk6szYSe"
   },
   "source": [
    "# **Analis Sentimen **"
   ]
  },
  {
   "cell_type": "markdown",
   "metadata": {
    "id": "4p3zDGMSEn6-"
   },
   "source": [
    "# Setup"
   ]
  },
  {
   "cell_type": "code",
   "execution_count": null,
   "metadata": {
    "colab": {
     "base_uri": "https://localhost:8080/"
    },
    "id": "zD38aDhbUnvn",
    "outputId": "f4eaed87-c4f0-4192-b99e-454d35396180"
   },
   "outputs": [
    {
     "name": "stdout",
     "output_type": "stream",
     "text": [
      "Drive already mounted at /content/drive; to attempt to forcibly remount, call drive.mount(\"/content/drive\", force_remount=True).\n"
     ]
    }
   ],
   "source": [
    "from google.colab import drive\n",
    "drive.mount('/content/drive')"
   ]
  },
  {
   "cell_type": "code",
   "execution_count": 1,
   "metadata": {
    "id": "x_hqobZwEqfn"
   },
   "outputs": [
    {
     "name": "stderr",
     "output_type": "stream",
     "text": [
      "[nltk_data] Downloading package stopwords to C:\\Users\\TUF\n",
      "[nltk_data]     Gaming\\AppData\\Roaming\\nltk_data...\n",
      "[nltk_data]   Package stopwords is already up-to-date!\n"
     ]
    }
   ],
   "source": [
    "import re\n",
    "import string\n",
    "import os\n",
    "import datetime\n",
    "import numpy as np\n",
    "import pandas as pd\n",
    "import matplotlib.pyplot as plt\n",
    "import seaborn as sns\n",
    "\n",
    "from itertools import cycle\n",
    "from sklearn.preprocessing import LabelEncoder, label_binarize\n",
    "from sklearn.model_selection import train_test_split\n",
    "from sklearn.metrics import roc_curve, auc, confusion_matrix, classification_report\n",
    "from sklearn.metrics import accuracy_score, precision_score, recall_score, f1_score\n",
    "from sklearn.model_selection import KFold\n",
    "\n",
    "from gensim.models import KeyedVectors\n",
    "\n",
    "import tensorflow as tf\n",
    "from tensorflow.keras.preprocessing.text import Tokenizer\n",
    "from tensorflow.keras.preprocessing.sequence import pad_sequences\n",
    "from tensorflow.keras.utils import to_categorical, plot_model\n",
    "from tensorflow.keras.optimizers import Adam\n",
    "from tensorflow.keras.losses import CategoricalCrossentropy, BinaryCrossentropy\n",
    "from tensorflow.keras.callbacks import EarlyStopping, ModelCheckpoint, TensorBoard\n",
    "from tensorflow.keras.initializers import Constant\n",
    "from tensorflow.keras import layers\n",
    "from tensorflow.keras import regularizers\n",
    "from tensorflow.keras.models import Sequential\n",
    "from tensorflow.keras.layers import Embedding, LSTM, GRU, SimpleRNN, Bidirectional, Dropout, Dense\n",
    "\n",
    "import nltk.corpus\n",
    "nltk.download('stopwords')\n",
    "from nltk.corpus import stopwords\n",
    "from Sastrawi.Stemmer.StemmerFactory import StemmerFactory\n",
    "from indoNLP.preprocessing import replace_slang\n",
    "\n",
    "from tqdm import tqdm\n",
    "tqdm.pandas()\n",
    "\n",
    "import warnings\n",
    "warnings.filterwarnings('ignore')\n",
    "\n",
    "SEED = 42\n",
    "MODEL = 'id-wiki-word2vec-bilstm'\n",
    "FOLDER_PATH = 'model-baseline-bilstm'\n",
    "\n",
    "np.random.seed(SEED)\n",
    "tf.random.set_seed(SEED)\n",
    "colors = plt.rcParams['axes.prop_cycle'].by_key()['color']\n",
    "\n",
    "%matplotlib inline"
   ]
  },
  {
   "cell_type": "markdown",
   "metadata": {
    "id": "HFFxBDAd5J6t"
   },
   "source": [
    "# Load Dataset"
   ]
  },
  {
   "cell_type": "code",
   "execution_count": 2,
   "metadata": {},
   "outputs": [
    {
     "name": "stdout",
     "output_type": "stream",
     "text": [
      "                                           full_text    label  \\\n",
      "0  Eks Menteri BUMN Dahlan Iskan  memenuhi panggi...   netral   \n",
      "1  Dalam mencegah tindak pidana korupsi yang mara...  positif   \n",
      "2  Unit Tipikor Satreskrim Polrestabes Medan mela...  positif   \n",
      "3  Kejagung Akui Kesulitan Temukan Tersangka Koru...  negatif   \n",
      "4  Usai menjalani sidang tuntutan di Pengadilan T...   netral   \n",
      "\n",
      "                                    text_normalisasi  \n",
      "0  eks menteri badan usaha milik negara dahlan is...  \n",
      "1  dalam mencegah tindak pidana korupsi yang mara...  \n",
      "2  unit tipikor satreskrim polrestabes medan mela...  \n",
      "3  kejaksaan agung akui kesulitan temukan tersang...  \n",
      "4  usai menjalani sidang tuntutan di pengadilan t...  \n"
     ]
    }
   ],
   "source": [
    "df = pd.read_csv(\"korupsi_uhuy.csv\")\n",
    "# df = df.sample(frac=1, random_state=SEED).reset_index(drop=True)   # For shuffle\n",
    "print(df.head())"
   ]
  },
  {
   "cell_type": "code",
   "execution_count": 61,
   "metadata": {},
   "outputs": [
    {
     "name": "stdout",
     "output_type": "stream",
     "text": [
      "full_text           object\n",
      "label               object\n",
      "text_normalisasi    object\n",
      "dtype: object\n"
     ]
    }
   ],
   "source": [
    "print(df.dtypes)"
   ]
  },
  {
   "cell_type": "code",
   "execution_count": 3,
   "metadata": {},
   "outputs": [
    {
     "name": "stdout",
     "output_type": "stream",
     "text": [
      "(2700, 3)\n",
      "label\n",
      "positif    0.333333\n",
      "netral     0.333333\n",
      "negatif    0.333333\n",
      "Name: proportion, dtype: float64\n"
     ]
    }
   ],
   "source": [
    "s_1 = df[df['label']=='positif'].sample(900,replace=True)\n",
    "s_2 = df[df['label']=='netral'].sample(900,replace=True)\n",
    "s_3 = df[df['label']=='negatif'].sample(900,replace=True)\n",
    "df = pd.concat([s_1, s_2, s_3])\n",
    "\n",
    "print(df.shape)\n",
    "\n",
    "print(df['label'].value_counts(normalize=True))"
   ]
  },
  {
   "cell_type": "code",
   "execution_count": 4,
   "metadata": {},
   "outputs": [
    {
     "data": {
      "text/plain": [
       "1000    ksp indosurya angka yang fantastis pengin cepa...\n",
       "1000    ksp indosurya angka yang fantastis pengin cepa...\n",
       "1000    ksp indosurya angka yang fantastis pengin cepa...\n",
       "Name: text_normalisasi, dtype: object"
      ]
     },
     "execution_count": 4,
     "metadata": {},
     "output_type": "execute_result"
    }
   ],
   "source": [
    "df['text_normalisasi'][1000]"
   ]
  },
  {
   "cell_type": "code",
   "execution_count": 9,
   "metadata": {},
   "outputs": [
    {
     "data": {
      "image/png": "[encoded data removed]",
      "text/plain": [
       "<Figure size 700x500 with 1 Axes>"
      ]
     },
     "metadata": {},
     "output_type": "display_data"
    },
    {
     "data": {
      "text/plain": [
       "label\n",
       "negatif    849\n",
       "netral     308\n",
       "positif    550\n",
       "Name: count, dtype: int64"
      ]
     },
     "execution_count": 9,
     "metadata": {},
     "output_type": "execute_result"
    }
   ],
   "source": [
    "plt.figure(figsize=(7, 5))\n",
    "sns.countplot(x='label', data=df, order=df['label'].value_counts().index)\n",
    "plt.xlabel('Sentiment')\n",
    "plt.show()\n",
    "\n",
    "df['label'].value_counts().sort_index()"
   ]
  },
  {
   "cell_type": "markdown",
   "metadata": {},
   "source": [
    "### Label Encoder"
   ]
  },
  {
   "cell_type": "code",
   "execution_count": 6,
   "metadata": {},
   "outputs": [
    {
     "name": "stdout",
     "output_type": "stream",
     "text": [
      "                                              full_text    label  \\\n",
      "247   Sat Reskrim Unit Tipidkor Polres Pulau Buru Me...  positif   \n",
      "1338  ðŸ¤£ðŸ¤£ðŸ¤£ sejarah terulang, padahal yg ngom...  positif   \n",
      "803   Tempo korek dong kasus korupsi bahlil, berkasn...  positif   \n",
      "252   Dilaporkan ke KPK akibat dugaan korupsi dan ko...  positif   \n",
      "177   MENDUKUNG PROGRAM QUICK WINS PRESISI TAHUN 202...  positif   \n",
      "\n",
      "                                       text_normalisasi  label_encode  \n",
      "247   sat reskrim unit tipidkor polres pulau buru me...             2  \n",
      "1338  sejarah terulang padahal yang mengomong juga m...             2  \n",
      "803   tempo korek dong kasus korupsi bahlil berkasny...             2  \n",
      "252   dilaporkan ke komisi pemberantasan korupsi aki...             2  \n",
      "177   mendukung program quick wins presisi tahun uni...             2  \n"
     ]
    }
   ],
   "source": [
    "le = LabelEncoder()\n",
    "\n",
    "df['label_encode'] = le.fit_transform(df['label'])\n",
    "print(df.head())"
   ]
  },
  {
   "cell_type": "code",
   "execution_count": 7,
   "metadata": {},
   "outputs": [
    {
     "name": "stdout",
     "output_type": "stream",
     "text": [
      "{'negatif': 0, 'netral': 1, 'positif': 2}\n"
     ]
    }
   ],
   "source": [
    "le_mapping = dict(zip(le.classes_, le.transform(le.classes_)))\n",
    "print(le_mapping)"
   ]
  },
  {
   "cell_type": "code",
   "execution_count": 8,
   "metadata": {},
   "outputs": [
    {
     "name": "stdout",
     "output_type": "stream",
     "text": [
      "['negatif' 'netral' 'positif']\n"
     ]
    }
   ],
   "source": [
    "LABEL_NAME = le.classes_\n",
    "print(LABEL_NAME)"
   ]
  },
  {
   "cell_type": "markdown",
   "metadata": {},
   "source": [
    "# Load Pre-Trained Word Vectors (Word2Vec)"
   ]
  },
  {
   "cell_type": "code",
   "execution_count": 9,
   "metadata": {},
   "outputs": [
    {
     "name": "stdout",
     "output_type": "stream",
     "text": [
      "The numbers of words in vocabulary:  456474\n",
      "CPU times: total: 234 ms\n",
      "Wall time: 276 ms\n"
     ]
    },
    {
     "data": {
      "text/plain": [
       "300"
      ]
     },
     "execution_count": 9,
     "metadata": {},
     "output_type": "execute_result"
    }
   ],
   "source": [
    "%%time\n",
    "WORD_EMBEDDING_PATH = 'model-word-embedding\\idwiki-word2vec\\idwiki-word2vec-300.wordvectors'\n",
    "\n",
    "word2vec = KeyedVectors.load(WORD_EMBEDDING_PATH,  mmap='r')\n",
    "#vocabulary = word2vec.wv.vocab     # gensim 3\n",
    "vocabulary = word2vec.index_to_key # gensim 4\n",
    "print('The numbers of words in vocabulary: ', len(vocabulary))\n",
    "\n",
    "VOCAB_SIZE = len(vocabulary)\n",
    "EMBEDDING_SIZE = word2vec.vector_size\n",
    "EMBEDDING_SIZE"
   ]
  },
  {
   "cell_type": "code",
   "execution_count": 10,
   "metadata": {},
   "outputs": [
    {
     "name": "stdout",
     "output_type": "stream",
     "text": [
      "The numbers of key-value pairs:  456474\n"
     ]
    }
   ],
   "source": [
    "word2vec_dict = {}\n",
    "\n",
    "for word in vocabulary:\n",
    "    #word2vec_dict[word] = word2vec.wv.get_vector(word)   # gensim 3\n",
    "    word2vec_dict[word] = word2vec.get_vector(word)\n",
    "\n",
    "print('The numbers of key-value pairs: ', len(word2vec_dict)) # should come equal to vocab size"
   ]
  },
  {
   "cell_type": "code",
   "execution_count": 11,
   "metadata": {},
   "outputs": [
    {
     "name": "stdout",
     "output_type": "stream",
     "text": [
      "[ 1.5170839   1.086788   -0.1540106  -1.1036768  -1.1521944  -2.376956\n",
      "  1.674137   -0.97332186 -2.5028708   0.854901    1.3386387   2.3730848\n",
      " -0.24650945  0.5194507  -0.45193434  0.08421133 -1.211181   -0.68709075\n",
      "  2.6123157   0.68464553 -3.1177945   0.5134122   2.0982897  -1.5050308\n",
      "  1.3415469  -1.2176394  -0.46404904  4.1940074  -0.9236465  -0.0065518\n",
      "  1.3392074   1.3558999   0.7278997  -1.6559792  -0.49520814  0.37338695\n",
      " -0.57744235  0.2633397  -0.27121338  0.76295686  1.792065    0.6530777\n",
      " -1.6199683   2.0326202  -0.55119294  0.63287574 -1.4447671  -1.8711195\n",
      "  0.01310196  0.457273    0.07608384 -1.6223986  -2.3040843  -0.54186463\n",
      " -0.9978265  -0.7623829   1.424659    3.153642   -3.2239697  -0.3104558\n",
      "  0.09564466 -1.057154   -0.28272143  2.2221415   0.7723072   0.01840528\n",
      " -1.7182556  -0.27119923 -1.67151    -2.5104916  -0.0079566   0.7477621\n",
      "  0.99297976  1.1478512  -0.12656358 -3.362374   -0.21108758  1.160634\n",
      " -2.6898367  -0.69321954  2.3124259   0.10986982 -0.9020368  -0.13620554\n",
      " -0.87006444 -3.4360216   1.0074883  -2.103843   -1.1814604   1.0868145\n",
      "  0.09868568  1.0379709  -1.040216    1.0509009  -2.3102252   0.02619062\n",
      " -0.8994535  -2.0024104  -2.2014627   0.21155572 -2.7279043  -1.2013214\n",
      " -1.2416761   1.8678693  -1.8212812   2.0027485   0.42993295  0.35652784\n",
      "  3.091957    2.2465508   0.08077256  0.516096   -0.64770865  0.4376854\n",
      " -0.8201239  -1.3143137  -1.553268    0.9680021  -1.0441355  -1.207991\n",
      " -1.1505251  -1.503728    1.9995792  -1.2924614  -2.1924932  -1.0081536\n",
      " -2.250611    3.3185124  -0.4539315   0.4567204  -3.450009    1.5782622\n",
      " -1.7582319   2.4529724  -0.6381321  -0.8452658  -0.18591051  0.5095776\n",
      " -2.3480203   0.11304478 -0.15734378 -1.3558629  -1.2372004  -1.600626\n",
      "  0.22822565  1.2915533   0.35716438 -0.12492853  0.12959471  1.4338712\n",
      " -1.1564397  -0.30270967 -1.1284722   0.986937    1.9818989  -0.4961513\n",
      " -0.24454084  1.7840817   2.3550692  -2.0726986  -1.8064629  -0.15743944\n",
      "  0.5164489   0.6378239   0.6175485   1.0210092   0.5650886  -1.4707239\n",
      " -0.5060218  -0.05013137  1.7317538  -0.581064    0.08163076 -0.59508884\n",
      " -0.5012122  -0.6021102   1.0080109   1.8633754   0.2459623  -0.45662433\n",
      "  0.40832844  1.0495096  -1.05413    -0.988949   -0.6340161  -1.3418989\n",
      " -0.21581662 -0.9161111   1.0853033   0.4554481   0.80693007  2.8591986\n",
      "  0.02625171 -2.2345853   1.3710889   1.4997388  -0.620498    0.8560408\n",
      "  0.42277592 -1.0016336   1.4257762  -0.3602459  -0.21897948 -1.0720838\n",
      "  0.8193911  -0.19922015  3.0726874  -2.0037916  -0.05092232  0.55739594\n",
      " -0.6297132  -2.6969488   3.7134912  -2.092548   -1.0446386  -0.3558327\n",
      "  0.8979957  -0.12764978  0.3380417  -0.25302398  0.11681509  1.2351791\n",
      "  0.9884908   0.6720285   1.7094499   1.3850678  -0.20106663  0.61996245\n",
      " -0.7419779  -0.30817398 -2.7544875  -0.7247495  -0.3040634   1.6793379\n",
      " -0.38720378  1.3205326   0.50780535 -0.14425083  1.809375   -0.39865083\n",
      " -0.7513605   0.9136579  -3.5725076  -0.7046219   1.1954075   0.8430697\n",
      " -1.3876262  -0.1642819  -0.54203427  1.5200229   2.0025795   1.2316458\n",
      " -0.7727021   1.172403    0.0285038  -0.36337683 -3.5446236   0.57055247\n",
      "  0.9060683   0.49402127  1.9761369   0.90499127 -0.36325788  1.3910408\n",
      "  2.4434657  -1.9257504  -0.5161128  -0.6492819   1.7625053  -0.36438122\n",
      "  1.5801933  -0.48665228 -1.074321    0.99972373 -1.1468353  -0.4532208\n",
      "  0.05468836 -0.64488685  1.7460219  -2.7793734   1.4601772  -0.6922059\n",
      " -0.49436432  0.5809693  -1.688351   -0.9111778   0.17521271 -1.1891263\n",
      "  0.0295215  -0.47445086  0.22660558  0.17111547 -0.9863682   0.51269865\n",
      " -0.1495472   1.6206322  -0.9108109  -0.61842513 -0.49757499 -0.39247823]\n",
      "Embedding size:  (300,)\n"
     ]
    }
   ],
   "source": [
    "# Cek vektor embedding dan dimensi dari suatu kata\n",
    "word = 'yogyakarta'\n",
    "\n",
    "print(word2vec[word])\n",
    "print('Embedding size: ', word2vec[word].shape)"
   ]
  },
  {
   "cell_type": "markdown",
   "metadata": {},
   "source": [
    "# Memilih panjang maksimum of the Sequence"
   ]
  },
  {
   "cell_type": "code",
   "execution_count": 12,
   "metadata": {},
   "outputs": [
    {
     "data": {
      "image/png": "[encoded data removed]",
      "text/plain": [
       "<Figure size 800x500 with 1 Axes>"
      ]
     },
     "metadata": {},
     "output_type": "display_data"
    }
   ],
   "source": [
    "token_lens = []\n",
    "\n",
    "for text in df['text_normalisasi']:\n",
    "    tokens = text.split()\n",
    "    token_lens.append(len(tokens))\n",
    "\n",
    "plt.figure(figsize=(8, 5))\n",
    "sns.histplot(token_lens, kde=True, stat='density', linewidth=0)\n",
    "plt.xlim([0, 100]);\n",
    "plt.xlabel('Token count');"
   ]
  },
  {
   "cell_type": "code",
   "execution_count": 13,
   "metadata": {},
   "outputs": [],
   "source": [
    "MAX_SEQ_LENGTH = 50"
   ]
  },
  {
   "cell_type": "markdown",
   "metadata": {},
   "source": [
    "# Persiapan Data untuk Embedding Layer"
   ]
  },
  {
   "cell_type": "code",
   "execution_count": 14,
   "metadata": {},
   "outputs": [
    {
     "data": {
      "text/html": [
       "<div>\n",
       "<style scoped>\n",
       "    .dataframe tbody tr th:only-of-type {\n",
       "        vertical-align: middle;\n",
       "    }\n",
       "\n",
       "    .dataframe tbody tr th {\n",
       "        vertical-align: top;\n",
       "    }\n",
       "\n",
       "    .dataframe thead th {\n",
       "        text-align: right;\n",
       "    }\n",
       "</style>\n",
       "<table border=\"1\" class=\"dataframe\">\n",
       "  <thead>\n",
       "    <tr style=\"text-align: right;\">\n",
       "      <th></th>\n",
       "      <th>full_text</th>\n",
       "      <th>label</th>\n",
       "      <th>text_normalisasi</th>\n",
       "      <th>label_encode</th>\n",
       "    </tr>\n",
       "  </thead>\n",
       "  <tbody>\n",
       "    <tr>\n",
       "      <th>247</th>\n",
       "      <td>Sat Reskrim Unit Tipidkor Polres Pulau Buru Me...</td>\n",
       "      <td>positif</td>\n",
       "      <td>sat reskrim unit tipidkor polres pulau buru me...</td>\n",
       "      <td>2</td>\n",
       "    </tr>\n",
       "    <tr>\n",
       "      <th>1338</th>\n",
       "      <td>ðŸ¤£ðŸ¤£ðŸ¤£ sejarah terulang, padahal yg ngom...</td>\n",
       "      <td>positif</td>\n",
       "      <td>sejarah terulang mengomong mengulangi sejarah ...</td>\n",
       "      <td>2</td>\n",
       "    </tr>\n",
       "    <tr>\n",
       "      <th>803</th>\n",
       "      <td>Tempo korek dong kasus korupsi bahlil, berkasn...</td>\n",
       "      <td>positif</td>\n",
       "      <td>tempo korek korupsi bahlil berkasnya kasih len...</td>\n",
       "      <td>2</td>\n",
       "    </tr>\n",
       "    <tr>\n",
       "      <th>252</th>\n",
       "      <td>Dilaporkan ke KPK akibat dugaan korupsi dan ko...</td>\n",
       "      <td>positif</td>\n",
       "      <td>dilaporkan komisi pemberantasan korupsi akibat...</td>\n",
       "      <td>2</td>\n",
       "    </tr>\n",
       "    <tr>\n",
       "      <th>177</th>\n",
       "      <td>MENDUKUNG PROGRAM QUICK WINS PRESISI TAHUN 202...</td>\n",
       "      <td>positif</td>\n",
       "      <td>mendukung program quick wins presisi unit tipi...</td>\n",
       "      <td>2</td>\n",
       "    </tr>\n",
       "  </tbody>\n",
       "</table>\n",
       "</div>"
      ],
      "text/plain": [
       "                                              full_text    label  \\\n",
       "247   Sat Reskrim Unit Tipidkor Polres Pulau Buru Me...  positif   \n",
       "1338  ðŸ¤£ðŸ¤£ðŸ¤£ sejarah terulang, padahal yg ngom...  positif   \n",
       "803   Tempo korek dong kasus korupsi bahlil, berkasn...  positif   \n",
       "252   Dilaporkan ke KPK akibat dugaan korupsi dan ko...  positif   \n",
       "177   MENDUKUNG PROGRAM QUICK WINS PRESISI TAHUN 202...  positif   \n",
       "\n",
       "                                       text_normalisasi  label_encode  \n",
       "247   sat reskrim unit tipidkor polres pulau buru me...             2  \n",
       "1338  sejarah terulang mengomong mengulangi sejarah ...             2  \n",
       "803   tempo korek korupsi bahlil berkasnya kasih len...             2  \n",
       "252   dilaporkan komisi pemberantasan korupsi akibat...             2  \n",
       "177   mendukung program quick wins presisi unit tipi...             2  "
      ]
     },
     "execution_count": 14,
     "metadata": {},
     "output_type": "execute_result"
    }
   ],
   "source": [
    "#------STOPWORDS--------------------\n",
    "stop = stopwords.words('indonesian')\n",
    "df['text_normalisasi'] = df['text_normalisasi'].apply(lambda x:' '.join([word for word in x.split() if word not in (stop)]))\n",
    "df.head()"
   ]
  },
  {
   "cell_type": "code",
   "execution_count": 14,
   "metadata": {},
   "outputs": [],
   "source": [
    "factory = StemmerFactory()\n",
    "stemmer = factory.create_stemmer()\n",
    "\n",
    "review = []\n",
    "for index, row in df.iterrows():\n",
    "    review.append(stemmer.stem(row[\"text_normalisasi\"]))\n",
    "    \n",
    "df[\"text_normalisasi\"] = review"
   ]
  },
  {
   "cell_type": "markdown",
   "metadata": {},
   "source": [
    "### Tokenizing Data"
   ]
  },
  {
   "cell_type": "code",
   "execution_count": 15,
   "metadata": {},
   "outputs": [
    {
     "name": "stdout",
     "output_type": "stream",
     "text": [
      "5018\n"
     ]
    }
   ],
   "source": [
    "NUM_WORDS = 500     # Frekuensi kemunculan kata. Hanya num_words-1 yang akan disimpan pada dictionary. Berarti kata dengan kemunculan <=num_words tidak digunakan.\n",
    "OOV_TOKEN = '<unk>'   # Token khusus untuk mengganti kata yang tidak terdaftar dalam dictionary.\n",
    "\n",
    "tokenizer = Tokenizer(num_words=NUM_WORDS, oov_token=OOV_TOKEN, lower=True, split=' ')\n",
    "tokenizer.fit_on_texts(df['text_normalisasi'])\n",
    "\n",
    "# Tambahkan token padding untuk menyamakan ukuran dimensi embedding layer\n",
    "tokenizer.word_index['<pad>'] = 0\n",
    "tokenizer.index_word[0] = '<pad>'\n",
    "\n",
    "WV_DICTIONARY = tokenizer.word_index\n",
    "\n",
    "WV_DICTIONARY_SIZE = len(WV_DICTIONARY)\n",
    "print(WV_DICTIONARY_SIZE) # Lihat kata unik pada dictionary yang dihasilkan"
   ]
  },
  {
   "cell_type": "markdown",
   "metadata": {},
   "source": [
    "### Text to Sequence"
   ]
  },
  {
   "cell_type": "code",
   "execution_count": 16,
   "metadata": {},
   "outputs": [],
   "source": [
    "# Proses mengubah token menjadi urutan bilangan int berdasarkan dictionary.\n",
    "data_seq = tokenizer.texts_to_sequences(df['text_normalisasi'])"
   ]
  },
  {
   "cell_type": "code",
   "execution_count": 17,
   "metadata": {},
   "outputs": [
    {
     "name": "stdout",
     "output_type": "stream",
     "text": [
      "1000    ksp indosurya angka fantastis pengin cepat ya ...\n",
      "1000    ksp indosurya angka fantastis pengin cepat ya ...\n",
      "1000    ksp indosurya angka fantastis pengin cepat ya ...\n",
      "Name: text_normalisasi, dtype: object\n",
      "[1, 1, 1, 1, 1, 2, 27]\n"
     ]
    }
   ],
   "source": [
    "print(df['text_normalisasi'][1000])\n",
    "print(data_seq[1])"
   ]
  },
  {
   "cell_type": "markdown",
   "metadata": {},
   "source": [
    "### Add padding & Truncation"
   ]
  },
  {
   "cell_type": "code",
   "execution_count": 18,
   "metadata": {},
   "outputs": [],
   "source": [
    "# Proses mengubah data dari sequence menjadi array bentuk 2D Numpy (num_samples, num_timesteps).\n",
    "PADDING = 'pre'        # Berikan padding untuk setiap sequences. Terdapat dua pilihan dalam melakukan padding 'pre' or 'post'.\n",
    "TRUNCATING = 'pre'     # Menghapus token dari sequences yang lebih besar dari max_lenght. Terdapat dua pilihan dalam melakukan truncanting 'pre' or 'post'.\n",
    "\n",
    "data_pad = pad_sequences(data_seq, maxlen=MAX_SEQ_LENGTH, padding=PADDING, truncating=TRUNCATING)"
   ]
  },
  {
   "cell_type": "code",
   "execution_count": 19,
   "metadata": {},
   "outputs": [
    {
     "name": "stdout",
     "output_type": "stream",
     "text": [
      "1000    ksp indosurya angka fantastis pengin cepat ya ...\n",
      "1000    ksp indosurya angka fantastis pengin cepat ya ...\n",
      "1000    ksp indosurya angka fantastis pengin cepat ya ...\n",
      "Name: text_normalisasi, dtype: object\n",
      "[1, 78, 84, 328, 70, 2, 45]\n",
      "[  0   0   0   0   0   0   0   0   0   0   0   0   0   0   0   0   0   0\n",
      "   0   0   0   0   0   0   0   0   0   0   0   0   0   0   0   0   0   0\n",
      "   0   0   0   0   0   0   0   0   0   0   0   0   0   0   0   0   0   0\n",
      "   0   0   0   0   0   0   0   0   0   1  78  84 328  70   2  45]\n"
     ]
    }
   ],
   "source": [
    "print(df['text_normalisasi'][1000])\n",
    "print(data_seq[1000])\n",
    "print(data_pad[1000])"
   ]
  },
  {
   "cell_type": "code",
   "execution_count": 20,
   "metadata": {},
   "outputs": [
    {
     "data": {
      "text/plain": [
       "(2700, 70)"
      ]
     },
     "execution_count": 20,
     "metadata": {},
     "output_type": "execute_result"
    }
   ],
   "source": [
    "data_pad.shape"
   ]
  },
  {
   "cell_type": "markdown",
   "metadata": {},
   "source": [
    "### Membuat matriks embedding"
   ]
  },
  {
   "cell_type": "code",
   "execution_count": 21,
   "metadata": {},
   "outputs": [],
   "source": [
    "EMBEDDING_MATRIX = np.zeros(shape=(WV_DICTIONARY_SIZE, EMBEDDING_SIZE))\n",
    "\n",
    "for word, i in tokenizer.word_index.items():\n",
    "    embed_vector = word2vec_dict.get(word)\n",
    "    if embed_vector is not None:               # Word is in the vocabulary learned by the w2v model\n",
    "        EMBEDDING_MATRIX[i] = embed_vector"
   ]
  },
  {
   "cell_type": "code",
   "execution_count": 22,
   "metadata": {},
   "outputs": [
    {
     "name": "stdout",
     "output_type": "stream",
     "text": [
      "67\n"
     ]
    }
   ],
   "source": [
    "print(WV_DICTIONARY.get('presiden'))"
   ]
  },
  {
   "cell_type": "code",
   "execution_count": 23,
   "metadata": {},
   "outputs": [
    {
     "name": "stdout",
     "output_type": "stream",
     "text": [
      "[ 0.30817437 -0.40021628 -0.89674968 -2.4026463   0.15952173  0.79680568\n",
      "  2.56865001 -0.82549858 -1.28926361  3.61835146  1.22065854  6.13206053\n",
      " -1.83438289 -1.28925824 -0.07049716  2.41390944 -0.82841063 -2.87467742\n",
      " -3.14349818 -0.83977461 -0.82091963 -0.3393518  -0.46154347 -0.81377012\n",
      " -2.18455887 -4.69224977  0.48842824  2.43364739 -2.19185877 -1.09116793\n",
      " -0.50722152  1.18378592 -1.47221196  1.93931222  0.09180029  2.35910535\n",
      " -0.11697265 -1.61527491  0.59050947  0.57152116 -2.88531017  0.24799572\n",
      "  2.01448298 -0.69065756 -1.43383288  1.87673807 -1.55153322  0.44653234\n",
      " -0.46419898 -2.92005134  1.6718111  -0.1743429  -0.26360324 -2.87338567\n",
      "  0.57966059 -4.33497047  0.71824759  0.30515334 -0.18581589  1.23851335\n",
      "  1.14125514 -1.98040581 -2.21037507  0.1898022  -4.08423233  2.12028003\n",
      " -4.85752058  1.35993791 -0.70996612 -2.59514856  3.00465488  2.31761527\n",
      "  3.25602365  1.32722151  0.64379489 -0.50237656 -0.65860593 -0.43082568\n",
      " -2.88287878  0.8112781   0.86004788 -0.37662685  0.66621768  2.27161956\n",
      " -2.96850348 -1.03531921 -1.07357597  3.9385941  -0.79469121 -2.45642257\n",
      " -0.91280597  0.11109927  0.82276696  0.35243416 -0.14279121 -0.91365755\n",
      " -1.58388102 -1.04713404 -1.1322037   1.08129549 -1.37194872  1.04239631\n",
      " -1.90454721 -0.15661195  0.05179007  1.19557929 -1.19803417  0.09943964\n",
      "  2.61050916  3.50499892  3.44608617 -0.98638022 -0.09462544  0.91718549\n",
      " -0.64407521  0.23257288 -1.4365772   0.83836406  1.04637361 -1.60017276\n",
      " -3.26593566 -0.21509577 -1.27965021  0.99458605 -0.08646752  0.04852044\n",
      " -1.78934324  0.52659959  1.40047312  3.63917279 -1.84709895  0.80070364\n",
      " -0.63496912  0.35284486  0.2345961  -0.33634049 -0.05108587 -0.68539685\n",
      " -3.03070903 -0.57347268  0.32480216 -2.0719974  -0.11145741  1.4344734\n",
      "  4.22103262  5.1023941   0.62443739  1.3693341  -0.94787133  0.27419156\n",
      " -1.1264689  -1.97428823 -2.40875149  2.81784391 -0.81311226 -0.53027678\n",
      " -0.3802554   0.87666094  1.54590416  0.28095683 -0.66378129 -2.09936643\n",
      "  4.0811944  -2.32141399 -1.25733984 -2.9560492   1.96941245  0.87064135\n",
      " -1.03994882 -1.68255258  1.0871774  -3.77571321  0.96399361 -0.06626129\n",
      "  1.71653163 -1.7236433  -1.24136674 -3.25870013 -0.99533755  0.8190043\n",
      "  0.42315471 -3.54759264 -0.32272333  0.78231049  3.21113634  1.36670971\n",
      " -2.19789672 -3.17482376  1.53481567 -0.04652129  1.76314616  3.44635653\n",
      " -1.25899518 -0.93427527  2.59505105  2.18234253  0.38306665 -2.06502867\n",
      "  1.6108321  -1.10595191  1.25281167  0.7795155   1.54080915  0.14748344\n",
      " -0.60835975 -1.14515924  2.60161924 -0.63106537  0.72967976  0.57849556\n",
      " -1.84239829  2.65914893  2.84198046  3.15029144  1.45977664 -1.76359761\n",
      " -2.44769955 -2.1064589   0.30213571  0.71100616 -0.70065153 -4.32943153\n",
      " -0.12933423  2.55074596 -1.25446045  0.30728468  1.49795496 -0.16153629\n",
      " -2.60510969 -0.11251404 -1.30509698 -1.22512019 -1.72625744  1.95497847\n",
      " -0.56679899 -1.48261571  0.04159857  0.96202093 -1.51668119  1.37857854\n",
      " -2.43855262  1.42835581 -0.61337709 -3.26184869  1.84123826 -0.52164197\n",
      "  0.67268521 -1.14868081 -2.14210367  0.42147455  0.7412647   1.54609311\n",
      "  2.38462758 -3.33539319 -1.01889336 -1.10167789 -1.84779155  0.04148817\n",
      "  2.13973451  1.42697597  0.1428789   0.62660563 -0.20034318  0.50778407\n",
      "  0.44240546  0.70588195  0.23128001  1.03653717  0.84161282 -2.9322691\n",
      "  3.02497435 -0.32797822 -1.37401628  2.29040885  0.57061875 -1.68201077\n",
      "  1.84568119  0.84027368  0.76762807  1.30967259  2.83289075  5.86078882\n",
      " -1.36062646  0.53783196  2.8955524   2.54040647  2.74256849  0.68441123\n",
      "  0.5668003  -0.83662766 -2.70854783 -2.31077933 -0.18463448  1.72342014\n",
      "  2.50038218  0.05011096  1.31747365  1.42696249 -0.19607244  1.49939549]\n"
     ]
    }
   ],
   "source": [
    "print(EMBEDDING_MATRIX[33])"
   ]
  },
  {
   "cell_type": "code",
   "execution_count": 24,
   "metadata": {},
   "outputs": [
    {
     "data": {
      "text/plain": [
       "(5018, 300)"
      ]
     },
     "execution_count": 24,
     "metadata": {},
     "output_type": "execute_result"
    }
   ],
   "source": [
    "EMBEDDING_MATRIX.shape"
   ]
  },
  {
   "cell_type": "markdown",
   "metadata": {},
   "source": [
    "## Train & Test Data Splitting"
   ]
  },
  {
   "cell_type": "code",
   "execution_count": 25,
   "metadata": {},
   "outputs": [],
   "source": [
    "NUM_CLASS = len(df['label_encode'].unique())\n",
    "\n",
    "Y = to_categorical(df['label_encode'], num_classes=NUM_CLASS)  # Lakukan one-hot encoding pada label (y)"
   ]
  },
  {
   "cell_type": "code",
   "execution_count": 26,
   "metadata": {},
   "outputs": [
    {
     "data": {
      "text/plain": [
       "((2160, 70), (540, 70), (2160, 3), (540, 3))"
      ]
     },
     "execution_count": 26,
     "metadata": {},
     "output_type": "execute_result"
    }
   ],
   "source": [
    "X_train, X_test, y_train, y_test = train_test_split(data_pad, Y, test_size=0.2, stratify=Y, random_state=42)\n",
    "X_train.shape, X_test.shape, y_train.shape, y_test.shape"
   ]
  },
  {
   "cell_type": "markdown",
   "metadata": {
    "id": "LP-yPghU1qli"
   },
   "source": [
    "# Model"
   ]
  },
  {
   "cell_type": "markdown",
   "metadata": {
    "id": "TBzx7MZi3tpU"
   },
   "source": [
    "### RNN"
   ]
  },
  {
   "cell_type": "code",
   "execution_count": 27,
   "metadata": {},
   "outputs": [],
   "source": [
    "UNITS = 128\n",
    "\n",
    "tf.keras.backend.clear_session()\n",
    "\n",
    "model = Sequential()\n",
    "model.add(Embedding(\n",
    "    input_dim = WV_DICTIONARY_SIZE,\n",
    "    output_dim = EMBEDDING_SIZE,\n",
    "    input_length = MAX_SEQ_LENGTH,\n",
    "    #trainable = False,\n",
    "    embeddings_initializer=Constant(EMBEDDING_MATRIX)))\n",
    "model.add(SimpleRNN(UNITS, dropout=0.5, return_sequences=False))\n",
    "model.add(Dense(NUM_CLASS, activation='softmax'))"
   ]
  },
  {
   "cell_type": "code",
   "execution_count": 29,
   "metadata": {},
   "outputs": [
    {
     "name": "stdout",
     "output_type": "stream",
     "text": [
      "Epoch 1/20\n",
      "68/68 [==============================] - 6s 69ms/step - loss: 1.1912 - accuracy: 0.4282 - precision: 0.4644 - recall: 0.3227 - val_loss: 1.0066 - val_accuracy: 0.4926 - val_precision: 0.6028 - val_recall: 0.3204\n",
      "Epoch 2/20\n",
      "68/68 [==============================] - 4s 63ms/step - loss: 0.9549 - accuracy: 0.5431 - precision: 0.6263 - recall: 0.3972 - val_loss: 0.9236 - val_accuracy: 0.5315 - val_precision: 0.5587 - val_recall: 0.4407\n",
      "Epoch 3/20\n",
      "68/68 [==============================] - 4s 65ms/step - loss: 0.8517 - accuracy: 0.5824 - precision: 0.6789 - recall: 0.4551 - val_loss: 0.8590 - val_accuracy: 0.5963 - val_precision: 0.6760 - val_recall: 0.4481\n",
      "Epoch 4/20\n",
      "68/68 [==============================] - 4s 61ms/step - loss: 0.7919 - accuracy: 0.6301 - precision: 0.7048 - recall: 0.5338 - val_loss: 0.9401 - val_accuracy: 0.5889 - val_precision: 0.6128 - val_recall: 0.5333\n",
      "Epoch 5/20\n",
      "68/68 [==============================] - 4s 62ms/step - loss: 0.8209 - accuracy: 0.6157 - precision: 0.6843 - recall: 0.5079 - val_loss: 0.8510 - val_accuracy: 0.5815 - val_precision: 0.6457 - val_recall: 0.4759\n",
      "Epoch 6/20\n",
      "68/68 [==============================] - 4s 64ms/step - loss: 0.7469 - accuracy: 0.6486 - precision: 0.7154 - recall: 0.5528 - val_loss: 0.8144 - val_accuracy: 0.6315 - val_precision: 0.6660 - val_recall: 0.5759\n",
      "Epoch 7/20\n",
      "68/68 [==============================] - 4s 62ms/step - loss: 0.6901 - accuracy: 0.6787 - precision: 0.7325 - recall: 0.6023 - val_loss: 0.7772 - val_accuracy: 0.6630 - val_precision: 0.7110 - val_recall: 0.5741\n",
      "Epoch 8/20\n",
      "68/68 [==============================] - 4s 62ms/step - loss: 0.6632 - accuracy: 0.7046 - precision: 0.7532 - recall: 0.6343 - val_loss: 0.7984 - val_accuracy: 0.6593 - val_precision: 0.7185 - val_recall: 0.5907\n",
      "Epoch 9/20\n",
      "68/68 [==============================] - 4s 62ms/step - loss: 0.6473 - accuracy: 0.7190 - precision: 0.7539 - recall: 0.6565 - val_loss: 0.8525 - val_accuracy: 0.6407 - val_precision: 0.6709 - val_recall: 0.5852\n",
      "Epoch 10/20\n",
      "68/68 [==============================] - 4s 62ms/step - loss: 0.6195 - accuracy: 0.7190 - precision: 0.7606 - recall: 0.6648 - val_loss: 0.8205 - val_accuracy: 0.6444 - val_precision: 0.6792 - val_recall: 0.6000\n",
      "Epoch 10: early stopping\n",
      "17/17 [==============================] - 0s 10ms/step\n",
      "              precision    recall  f1-score   support\n",
      "\n",
      "           0       0.71      0.40      0.51       187\n",
      "           1       0.67      0.83      0.74       163\n",
      "           2       0.59      0.73      0.65       190\n",
      "\n",
      "    accuracy                           0.64       540\n",
      "   macro avg       0.66      0.65      0.64       540\n",
      "weighted avg       0.66      0.64      0.63       540\n",
      "\n",
      "=================================================\n",
      "Epoch 1/20\n",
      "68/68 [==============================] - 7s 70ms/step - loss: 1.1749 - accuracy: 0.4505 - precision: 0.4875 - recall: 0.3329 - val_loss: 1.0494 - val_accuracy: 0.4463 - val_precision: 0.5106 - val_recall: 0.3130\n",
      "Epoch 2/20\n",
      "68/68 [==============================] - 4s 62ms/step - loss: 0.9367 - accuracy: 0.5296 - precision: 0.6178 - recall: 0.4056 - val_loss: 0.9359 - val_accuracy: 0.5333 - val_precision: 0.6657 - val_recall: 0.4130\n",
      "Epoch 3/20\n",
      "68/68 [==============================] - 4s 63ms/step - loss: 0.8946 - accuracy: 0.5681 - precision: 0.6628 - recall: 0.4213 - val_loss: 0.8912 - val_accuracy: 0.5611 - val_precision: 0.6425 - val_recall: 0.4259\n",
      "Epoch 4/20\n",
      "68/68 [==============================] - 4s 62ms/step - loss: 0.8337 - accuracy: 0.6093 - precision: 0.6953 - recall: 0.4944 - val_loss: 0.8597 - val_accuracy: 0.5778 - val_precision: 0.6631 - val_recall: 0.4593\n",
      "Epoch 5/20\n",
      "68/68 [==============================] - 4s 62ms/step - loss: 0.7767 - accuracy: 0.6366 - precision: 0.7138 - recall: 0.5231 - val_loss: 0.8710 - val_accuracy: 0.5444 - val_precision: 0.6300 - val_recall: 0.4667\n",
      "Epoch 6/20\n",
      "68/68 [==============================] - 4s 66ms/step - loss: 0.7770 - accuracy: 0.6296 - precision: 0.6980 - recall: 0.5394 - val_loss: 0.8052 - val_accuracy: 0.6444 - val_precision: 0.6709 - val_recall: 0.5815\n",
      "Epoch 7/20\n",
      "68/68 [==============================] - 4s 64ms/step - loss: 0.7419 - accuracy: 0.6602 - precision: 0.7101 - recall: 0.5806 - val_loss: 0.7929 - val_accuracy: 0.6222 - val_precision: 0.6636 - val_recall: 0.5333\n",
      "Epoch 8/20\n",
      "68/68 [==============================] - 4s 63ms/step - loss: 0.7323 - accuracy: 0.6741 - precision: 0.7188 - recall: 0.5940 - val_loss: 0.8286 - val_accuracy: 0.6111 - val_precision: 0.6545 - val_recall: 0.5296\n",
      "Epoch 9/20\n",
      "68/68 [==============================] - 4s 63ms/step - loss: 0.7471 - accuracy: 0.6528 - precision: 0.7110 - recall: 0.5639 - val_loss: 0.7754 - val_accuracy: 0.6019 - val_precision: 0.6879 - val_recall: 0.5389\n",
      "Epoch 10/20\n",
      "68/68 [==============================] - 4s 62ms/step - loss: 0.7282 - accuracy: 0.6657 - precision: 0.7256 - recall: 0.5792 - val_loss: 0.7523 - val_accuracy: 0.6463 - val_precision: 0.7273 - val_recall: 0.5185\n",
      "Epoch 11/20\n",
      "68/68 [==============================] - 4s 63ms/step - loss: 0.7091 - accuracy: 0.6662 - precision: 0.7306 - recall: 0.5889 - val_loss: 0.7506 - val_accuracy: 0.6389 - val_precision: 0.6876 - val_recall: 0.5667\n",
      "Epoch 12/20\n",
      "68/68 [==============================] - 4s 62ms/step - loss: 0.7269 - accuracy: 0.6718 - precision: 0.7236 - recall: 0.5843 - val_loss: 0.7842 - val_accuracy: 0.6352 - val_precision: 0.7096 - val_recall: 0.5611\n",
      "Epoch 13/20\n",
      "68/68 [==============================] - 4s 62ms/step - loss: 0.6972 - accuracy: 0.6875 - precision: 0.7336 - recall: 0.6144 - val_loss: 0.7753 - val_accuracy: 0.6593 - val_precision: 0.7097 - val_recall: 0.6111\n",
      "Epoch 14/20\n",
      "68/68 [==============================] - 4s 62ms/step - loss: 0.6730 - accuracy: 0.6954 - precision: 0.7495 - recall: 0.6329 - val_loss: 0.7695 - val_accuracy: 0.6519 - val_precision: 0.7166 - val_recall: 0.5852\n",
      "Epoch 14: early stopping\n",
      "17/17 [==============================] - 0s 14ms/step\n",
      "              precision    recall  f1-score   support\n",
      "\n",
      "           0       0.56      0.68      0.61       181\n",
      "           1       0.75      0.74      0.75       183\n",
      "           2       0.67      0.53      0.59       176\n",
      "\n",
      "    accuracy                           0.65       540\n",
      "   macro avg       0.66      0.65      0.65       540\n",
      "weighted avg       0.66      0.65      0.65       540\n",
      "\n",
      "=================================================\n",
      "Epoch 1/20\n",
      "68/68 [==============================] - 7s 73ms/step - loss: 1.1961 - accuracy: 0.4310 - precision: 0.4602 - recall: 0.3185 - val_loss: 1.0638 - val_accuracy: 0.4500 - val_precision: 0.5309 - val_recall: 0.3500\n",
      "Epoch 2/20\n",
      "68/68 [==============================] - 4s 65ms/step - loss: 0.9342 - accuracy: 0.5394 - precision: 0.6226 - recall: 0.4009 - val_loss: 0.9611 - val_accuracy: 0.5130 - val_precision: 0.5471 - val_recall: 0.4407\n",
      "Epoch 3/20\n",
      "68/68 [==============================] - 4s 64ms/step - loss: 0.8696 - accuracy: 0.5898 - precision: 0.6630 - recall: 0.4519 - val_loss: 0.8500 - val_accuracy: 0.6019 - val_precision: 0.7444 - val_recall: 0.4315\n",
      "Epoch 4/20\n",
      "68/68 [==============================] - 4s 63ms/step - loss: 0.8279 - accuracy: 0.6000 - precision: 0.6802 - recall: 0.4796 - val_loss: 0.8773 - val_accuracy: 0.6056 - val_precision: 0.7102 - val_recall: 0.4630\n",
      "Epoch 5/20\n",
      "68/68 [==============================] - 4s 65ms/step - loss: 0.7702 - accuracy: 0.6403 - precision: 0.7036 - recall: 0.5505 - val_loss: 0.8628 - val_accuracy: 0.6074 - val_precision: 0.6627 - val_recall: 0.5093\n",
      "Epoch 6/20\n",
      "68/68 [==============================] - 4s 64ms/step - loss: 0.7328 - accuracy: 0.6625 - precision: 0.7166 - recall: 0.5935 - val_loss: 0.8109 - val_accuracy: 0.6389 - val_precision: 0.6753 - val_recall: 0.5778\n",
      "Epoch 7/20\n",
      "68/68 [==============================] - 4s 64ms/step - loss: 0.7292 - accuracy: 0.6551 - precision: 0.7149 - recall: 0.5838 - val_loss: 0.8083 - val_accuracy: 0.6370 - val_precision: 0.7270 - val_recall: 0.5130\n",
      "Epoch 8/20\n",
      "68/68 [==============================] - 4s 63ms/step - loss: 0.6991 - accuracy: 0.6755 - precision: 0.7299 - recall: 0.5981 - val_loss: 0.8141 - val_accuracy: 0.6407 - val_precision: 0.7257 - val_recall: 0.5389\n",
      "Epoch 9/20\n",
      "68/68 [==============================] - 4s 63ms/step - loss: 0.6668 - accuracy: 0.6907 - precision: 0.7444 - recall: 0.6282 - val_loss: 0.8815 - val_accuracy: 0.6296 - val_precision: 0.6963 - val_recall: 0.5648\n",
      "Epoch 10/20\n",
      "68/68 [==============================] - 4s 62ms/step - loss: 0.6529 - accuracy: 0.7097 - precision: 0.7624 - recall: 0.6463 - val_loss: 0.8010 - val_accuracy: 0.6593 - val_precision: 0.7246 - val_recall: 0.5944\n",
      "Epoch 11/20\n",
      "68/68 [==============================] - 4s 62ms/step - loss: 0.6332 - accuracy: 0.7139 - precision: 0.7582 - recall: 0.6606 - val_loss: 0.8230 - val_accuracy: 0.6519 - val_precision: 0.6701 - val_recall: 0.6056\n",
      "Epoch 12/20\n",
      "68/68 [==============================] - 4s 62ms/step - loss: 0.6057 - accuracy: 0.7227 - precision: 0.7636 - recall: 0.6819 - val_loss: 0.7777 - val_accuracy: 0.6648 - val_precision: 0.7002 - val_recall: 0.6185\n",
      "Epoch 13/20\n",
      "68/68 [==============================] - 4s 62ms/step - loss: 0.5496 - accuracy: 0.7532 - precision: 0.7945 - recall: 0.7088 - val_loss: 0.7849 - val_accuracy: 0.6685 - val_precision: 0.6988 - val_recall: 0.6315\n",
      "Epoch 14/20\n",
      "68/68 [==============================] - 4s 61ms/step - loss: 0.5696 - accuracy: 0.7509 - precision: 0.7807 - recall: 0.7102 - val_loss: 0.7730 - val_accuracy: 0.6815 - val_precision: 0.7389 - val_recall: 0.6185\n",
      "Epoch 15/20\n",
      "68/68 [==============================] - 4s 61ms/step - loss: 0.5246 - accuracy: 0.7662 - precision: 0.8029 - recall: 0.7296 - val_loss: 0.7495 - val_accuracy: 0.6981 - val_precision: 0.7350 - val_recall: 0.6574\n",
      "Epoch 16/20\n",
      "68/68 [==============================] - 4s 66ms/step - loss: 0.5269 - accuracy: 0.7704 - precision: 0.8012 - recall: 0.7315 - val_loss: 0.7515 - val_accuracy: 0.6963 - val_precision: 0.7388 - val_recall: 0.6704\n",
      "Epoch 17/20\n",
      "68/68 [==============================] - 4s 62ms/step - loss: 0.5121 - accuracy: 0.7861 - precision: 0.8162 - recall: 0.7588 - val_loss: 0.7850 - val_accuracy: 0.7074 - val_precision: 0.7168 - val_recall: 0.6796\n",
      "Epoch 18/20\n",
      "68/68 [==============================] - 4s 62ms/step - loss: 0.5017 - accuracy: 0.7792 - precision: 0.8030 - recall: 0.7472 - val_loss: 0.7940 - val_accuracy: 0.6852 - val_precision: 0.6996 - val_recall: 0.6685\n",
      "Epoch 18: early stopping\n",
      "17/17 [==============================] - 0s 10ms/step\n",
      "              precision    recall  f1-score   support\n",
      "\n",
      "           0       0.56      0.75      0.64       172\n",
      "           1       0.79      0.78      0.79       209\n",
      "           2       0.74      0.48      0.59       159\n",
      "\n",
      "    accuracy                           0.69       540\n",
      "   macro avg       0.70      0.67      0.67       540\n",
      "weighted avg       0.70      0.69      0.68       540\n",
      "\n",
      "=================================================\n",
      "Epoch 1/20\n",
      "68/68 [==============================] - 6s 68ms/step - loss: 1.2105 - accuracy: 0.4403 - precision: 0.4595 - recall: 0.3204 - val_loss: 0.9737 - val_accuracy: 0.5185 - val_precision: 0.5975 - val_recall: 0.3574\n",
      "Epoch 2/20\n",
      "68/68 [==============================] - 4s 62ms/step - loss: 0.9458 - accuracy: 0.5329 - precision: 0.6054 - recall: 0.3870 - val_loss: 0.8736 - val_accuracy: 0.5981 - val_precision: 0.6374 - val_recall: 0.4981\n",
      "Epoch 3/20\n",
      "68/68 [==============================] - 4s 60ms/step - loss: 0.8660 - accuracy: 0.5875 - precision: 0.6604 - recall: 0.4880 - val_loss: 0.8368 - val_accuracy: 0.6111 - val_precision: 0.6961 - val_recall: 0.4667\n",
      "Epoch 4/20\n",
      "68/68 [==============================] - 4s 62ms/step - loss: 0.8521 - accuracy: 0.5986 - precision: 0.6753 - recall: 0.4843 - val_loss: 0.8368 - val_accuracy: 0.6074 - val_precision: 0.6946 - val_recall: 0.4759\n",
      "Epoch 5/20\n",
      "68/68 [==============================] - 4s 61ms/step - loss: 0.7634 - accuracy: 0.6380 - precision: 0.7060 - recall: 0.5370 - val_loss: 0.8077 - val_accuracy: 0.6352 - val_precision: 0.6998 - val_recall: 0.5481\n",
      "Epoch 6/20\n",
      "68/68 [==============================] - 4s 61ms/step - loss: 0.7240 - accuracy: 0.6634 - precision: 0.7190 - recall: 0.6005 - val_loss: 0.7917 - val_accuracy: 0.6315 - val_precision: 0.6576 - val_recall: 0.5833\n",
      "Epoch 7/20\n",
      "68/68 [==============================] - 4s 62ms/step - loss: 0.6901 - accuracy: 0.6898 - precision: 0.7494 - recall: 0.6190 - val_loss: 0.7713 - val_accuracy: 0.6741 - val_precision: 0.7380 - val_recall: 0.6000\n",
      "Epoch 8/20\n",
      "68/68 [==============================] - 4s 61ms/step - loss: 0.6681 - accuracy: 0.7093 - precision: 0.7558 - recall: 0.6375 - val_loss: 0.7775 - val_accuracy: 0.6981 - val_precision: 0.7361 - val_recall: 0.6352\n",
      "Epoch 9/20\n",
      "68/68 [==============================] - 4s 61ms/step - loss: 0.6541 - accuracy: 0.7079 - precision: 0.7545 - recall: 0.6560 - val_loss: 0.7611 - val_accuracy: 0.6852 - val_precision: 0.7217 - val_recall: 0.6148\n",
      "Epoch 10/20\n",
      "68/68 [==============================] - 4s 60ms/step - loss: 0.6136 - accuracy: 0.7319 - precision: 0.7750 - recall: 0.6856 - val_loss: 0.8145 - val_accuracy: 0.6870 - val_precision: 0.7506 - val_recall: 0.6130\n",
      "Epoch 11/20\n",
      "68/68 [==============================] - 4s 61ms/step - loss: 0.5864 - accuracy: 0.7509 - precision: 0.7778 - recall: 0.7019 - val_loss: 0.7288 - val_accuracy: 0.7333 - val_precision: 0.7634 - val_recall: 0.7111\n",
      "Epoch 12/20\n",
      "68/68 [==============================] - 4s 62ms/step - loss: 0.5824 - accuracy: 0.7505 - precision: 0.7845 - recall: 0.7130 - val_loss: 0.7023 - val_accuracy: 0.7278 - val_precision: 0.7571 - val_recall: 0.6870\n",
      "Epoch 13/20\n",
      "68/68 [==============================] - 4s 61ms/step - loss: 0.6543 - accuracy: 0.7144 - precision: 0.7539 - recall: 0.6667 - val_loss: 0.9037 - val_accuracy: 0.6093 - val_precision: 0.6471 - val_recall: 0.5500\n",
      "Epoch 14/20\n",
      "68/68 [==============================] - 4s 62ms/step - loss: 0.8009 - accuracy: 0.6176 - precision: 0.6838 - recall: 0.5407 - val_loss: 0.9135 - val_accuracy: 0.5722 - val_precision: 0.6441 - val_recall: 0.4759\n",
      "Epoch 15/20\n",
      "68/68 [==============================] - 4s 64ms/step - loss: 0.7509 - accuracy: 0.6514 - precision: 0.7106 - recall: 0.5662 - val_loss: 0.8477 - val_accuracy: 0.5963 - val_precision: 0.6328 - val_recall: 0.5426\n",
      "Epoch 15: early stopping\n",
      "17/17 [==============================] - 0s 12ms/step\n",
      "              precision    recall  f1-score   support\n",
      "\n",
      "           0       0.49      0.68      0.57       183\n",
      "           1       0.71      0.69      0.70       154\n",
      "           2       0.68      0.45      0.54       203\n",
      "\n",
      "    accuracy                           0.60       540\n",
      "   macro avg       0.62      0.61      0.60       540\n",
      "weighted avg       0.62      0.60      0.59       540\n",
      "\n",
      "=================================================\n",
      "Epoch 1/20\n",
      "68/68 [==============================] - 6s 68ms/step - loss: 1.1999 - accuracy: 0.4120 - precision: 0.4599 - recall: 0.2917 - val_loss: 0.9731 - val_accuracy: 0.4556 - val_precision: 0.6279 - val_recall: 0.2500\n",
      "Epoch 2/20\n",
      "68/68 [==============================] - 4s 60ms/step - loss: 0.9565 - accuracy: 0.5208 - precision: 0.6247 - recall: 0.3676 - val_loss: 0.9600 - val_accuracy: 0.5444 - val_precision: 0.5551 - val_recall: 0.4574\n",
      "Epoch 3/20\n",
      "68/68 [==============================] - 4s 61ms/step - loss: 0.8949 - accuracy: 0.5551 - precision: 0.6589 - recall: 0.4204 - val_loss: 0.8691 - val_accuracy: 0.5963 - val_precision: 0.6887 - val_recall: 0.4630\n",
      "Epoch 4/20\n",
      "68/68 [==============================] - 4s 62ms/step - loss: 0.8598 - accuracy: 0.5935 - precision: 0.6723 - recall: 0.4625 - val_loss: 0.8545 - val_accuracy: 0.6093 - val_precision: 0.6832 - val_recall: 0.4593\n",
      "Epoch 5/20\n",
      "68/68 [==============================] - 4s 61ms/step - loss: 0.7771 - accuracy: 0.6398 - precision: 0.7123 - recall: 0.5273 - val_loss: 0.8182 - val_accuracy: 0.6130 - val_precision: 0.6750 - val_recall: 0.5500\n",
      "Epoch 6/20\n",
      "68/68 [==============================] - 4s 61ms/step - loss: 0.7580 - accuracy: 0.6500 - precision: 0.7057 - recall: 0.5606 - val_loss: 0.8779 - val_accuracy: 0.5889 - val_precision: 0.6468 - val_recall: 0.5222\n",
      "Epoch 7/20\n",
      "68/68 [==============================] - 4s 61ms/step - loss: 0.8006 - accuracy: 0.6231 - precision: 0.6976 - recall: 0.5426 - val_loss: 0.8427 - val_accuracy: 0.6222 - val_precision: 0.6848 - val_recall: 0.5352\n",
      "Epoch 8/20\n"
     ]
    },
    {
     "name": "stdout",
     "output_type": "stream",
     "text": [
      "68/68 [==============================] - 4s 60ms/step - loss: 0.7878 - accuracy: 0.6241 - precision: 0.6881 - recall: 0.5208 - val_loss: 0.8723 - val_accuracy: 0.6148 - val_precision: 0.6830 - val_recall: 0.4907\n",
      "Epoch 8: early stopping\n",
      "17/17 [==============================] - 0s 10ms/step\n",
      "              precision    recall  f1-score   support\n",
      "\n",
      "           0       0.56      0.60      0.58       177\n",
      "           1       0.74      0.61      0.67       191\n",
      "           2       0.57      0.63      0.60       172\n",
      "\n",
      "    accuracy                           0.61       540\n",
      "   macro avg       0.62      0.61      0.62       540\n",
      "weighted avg       0.62      0.61      0.62       540\n",
      "\n",
      "=================================================\n",
      "\n",
      "Rata-rata Akurasi:  0.6385\n",
      "Rata-rata Precision:  0.6525\n",
      "Rata-rata Recall:  0.6394\n",
      "Rata-rata F1-score:  0.6352\n",
      "Rata-rata Loss: 0.8208\n"
     ]
    }
   ],
   "source": [
    "kf = KFold(n_splits=5,random_state=42,shuffle=True)\n",
    "\n",
    "UNITS = 128\n",
    "\n",
    "X = data_pad\n",
    "y = Y\n",
    "\n",
    "accuracy_scores = []\n",
    "precision_scores = []\n",
    "recall_scores = []\n",
    "efwan = []\n",
    "loss_scores = []\n",
    "\n",
    "for train_index, test_index in kf.split(X):\n",
    "    X_train, X_test = X[train_index], X[test_index]\n",
    "    y_train, y_test = y[train_index], y[test_index]\n",
    "    \n",
    "    tf.keras.backend.clear_session()\n",
    "\n",
    "    model = Sequential()\n",
    "    model.add(Embedding(\n",
    "        input_dim = WV_DICTIONARY_SIZE,\n",
    "        output_dim = EMBEDDING_SIZE,\n",
    "        input_length = MAX_SEQ_LENGTH,\n",
    "        #trainable = True,\n",
    "        embeddings_initializer=Constant(EMBEDDING_MATRIX)))\n",
    "    model.add(SimpleRNN(UNITS, dropout=0.5, return_sequences=False))\n",
    "    model.add(Dense(NUM_CLASS, activation='softmax'))\n",
    "    \n",
    "    METRICS = [\n",
    "           tf.keras.metrics.CategoricalAccuracy(name='accuracy'),\n",
    "           tf.keras.metrics.Precision(name='precision'),\n",
    "           tf.keras.metrics.Recall(name='recall')\n",
    "    ]\n",
    "\n",
    "    LEARNING_RATE = 0.005\n",
    "\n",
    "    OPTIMIZER = Adam(learning_rate=LEARNING_RATE)\n",
    "    LOSS_FUNCTION = CategoricalCrossentropy(name='categorical_crossentropy')\n",
    "\n",
    "    model.compile(loss=LOSS_FUNCTION, optimizer=OPTIMIZER, metrics=METRICS)\n",
    "    \n",
    "    early_stopping = EarlyStopping(monitor='val_loss', mode='auto', verbose=1, patience=3)\n",
    "    \n",
    "    EPOCHS = 20\n",
    "    BATCH_SIZE = 32\n",
    "\n",
    "    model_history = model.fit(\n",
    "        X_train, \n",
    "        y_train, \n",
    "        epochs=EPOCHS,\n",
    "        batch_size=BATCH_SIZE, \n",
    "        validation_data=(X_test, y_test), \n",
    "        verbose=1, \n",
    "        steps_per_epoch=int(np.ceil(X_train.shape[0] / BATCH_SIZE)),\n",
    "        callbacks=[early_stopping]\n",
    "    )\n",
    "    \n",
    "    y_pred = np.argmax(model.predict(X_test), axis=1)\n",
    "    y_true = np.argmax(y_test, axis=1)\n",
    "    \n",
    "    print(classification_report(y_true, y_pred))\n",
    "    print(\"=================================================\")\n",
    "    \n",
    "    evaluation = model.evaluate(X_test, y_test, verbose=0)\n",
    "    accuracy_scores.append(accuracy_score(y_true, y_pred))\n",
    "    precision_scores.append(precision_score(y_true, y_pred, average='macro'))\n",
    "    recall_scores.append(recall_score(y_true, y_pred, average='macro'))\n",
    "    efwan.append(f1_score(y_true, y_pred, average='macro'))\n",
    "    loss_scores.append(evaluation[0])\n",
    "    \n",
    "print()\n",
    "avg_accuracy = np.mean(accuracy_scores)\n",
    "avg_precision = np.mean(precision_scores)\n",
    "avg_recall = np.mean(recall_scores)\n",
    "avg_f1 = np.mean(efwan)\n",
    "avg_loss = sum(loss_scores) / len(loss_scores)\n",
    "\n",
    "print(\"Rata-rata Akurasi: \", round(avg_accuracy,4))\n",
    "print(\"Rata-rata Precision: \", round(avg_precision,4))\n",
    "print(\"Rata-rata Recall: \", round(avg_recall,4))\n",
    "print(\"Rata-rata F1-score: \", round(avg_f1,4))\n",
    "print(\"Rata-rata Loss: {:.4f}\".format(avg_loss))"
   ]
  },
  {
   "cell_type": "markdown",
   "metadata": {
    "id": "x2qnCTnh1s8g"
   },
   "source": [
    "### LSTM"
   ]
  },
  {
   "cell_type": "code",
   "execution_count": 94,
   "metadata": {},
   "outputs": [],
   "source": [
    "units = 128\n",
    "\n",
    "tf.keras.backend.clear_session()\n",
    "\n",
    "model = Sequential()\n",
    "model.add(Embedding(\n",
    "    input_dim = WV_DICTIONARY_SIZE,\n",
    "    output_dim = EMBEDDING_SIZE,\n",
    "    input_length = MAX_SEQ_LENGTH,\n",
    "    #trainable = True,\n",
    "    embeddings_initializer=Constant(EMBEDDING_MATRIX)))\n",
    "model.add(LSTM(units, dropout=0.5, return_sequences=False))\n",
    "model.add(Dense(NUM_CLASS, activation='softmax'))"
   ]
  },
  {
   "cell_type": "code",
   "execution_count": 34,
   "metadata": {},
   "outputs": [
    {
     "name": "stdout",
     "output_type": "stream",
     "text": [
      "Epoch 1/50\n",
      "68/68 [==============================] - 6s 70ms/step - loss: 0.9705 - accuracy: 0.5278 - precision: 0.5967 - recall: 0.3301 - val_loss: 0.8187 - val_accuracy: 0.6333 - val_precision: 0.6779 - val_recall: 0.5222\n",
      "Epoch 2/50\n",
      "68/68 [==============================] - 4s 59ms/step - loss: 0.7077 - accuracy: 0.7023 - precision: 0.7356 - recall: 0.6194 - val_loss: 0.6608 - val_accuracy: 0.7074 - val_precision: 0.7479 - val_recall: 0.6537\n",
      "Epoch 3/50\n",
      "68/68 [==============================] - 4s 61ms/step - loss: 0.5345 - accuracy: 0.7806 - precision: 0.8128 - recall: 0.7458 - val_loss: 0.5901 - val_accuracy: 0.7611 - val_precision: 0.7892 - val_recall: 0.7278\n",
      "Epoch 4/50\n",
      "68/68 [==============================] - 4s 62ms/step - loss: 0.4118 - accuracy: 0.8366 - precision: 0.8631 - recall: 0.8111 - val_loss: 0.5438 - val_accuracy: 0.8000 - val_precision: 0.8076 - val_recall: 0.7852\n",
      "Epoch 5/50\n",
      "68/68 [==============================] - 4s 63ms/step - loss: 0.3506 - accuracy: 0.8662 - precision: 0.8772 - recall: 0.8500 - val_loss: 0.4597 - val_accuracy: 0.8389 - val_precision: 0.8525 - val_recall: 0.8241\n",
      "Epoch 6/50\n",
      "68/68 [==============================] - 4s 63ms/step - loss: 0.2767 - accuracy: 0.8963 - precision: 0.9063 - recall: 0.8870 - val_loss: 0.4219 - val_accuracy: 0.8500 - val_precision: 0.8582 - val_recall: 0.8407\n",
      "Epoch 7/50\n",
      "68/68 [==============================] - 4s 63ms/step - loss: 0.2184 - accuracy: 0.9259 - precision: 0.9336 - recall: 0.9185 - val_loss: 0.4536 - val_accuracy: 0.8556 - val_precision: 0.8603 - val_recall: 0.8556\n",
      "Epoch 8/50\n",
      "68/68 [==============================] - 4s 64ms/step - loss: 0.1937 - accuracy: 0.9343 - precision: 0.9399 - recall: 0.9269 - val_loss: 0.4058 - val_accuracy: 0.8704 - val_precision: 0.8821 - val_recall: 0.8593\n",
      "Epoch 9/50\n",
      "68/68 [==============================] - 4s 64ms/step - loss: 0.1624 - accuracy: 0.9417 - precision: 0.9495 - recall: 0.9394 - val_loss: 0.4630 - val_accuracy: 0.8574 - val_precision: 0.8622 - val_recall: 0.8574\n",
      "Epoch 10/50\n",
      "68/68 [==============================] - 4s 65ms/step - loss: 0.1430 - accuracy: 0.9514 - precision: 0.9538 - recall: 0.9458 - val_loss: 0.4977 - val_accuracy: 0.8556 - val_precision: 0.8644 - val_recall: 0.8500\n",
      "Epoch 11/50\n",
      "68/68 [==============================] - 4s 65ms/step - loss: 0.1314 - accuracy: 0.9565 - precision: 0.9580 - recall: 0.9509 - val_loss: 0.4577 - val_accuracy: 0.8648 - val_precision: 0.8776 - val_recall: 0.8630\n",
      "Epoch 11: early stopping\n",
      "17/17 [==============================] - 1s 17ms/step\n",
      "              precision    recall  f1-score   support\n",
      "\n",
      "           0       0.89      0.78      0.83       187\n",
      "           1       0.90      0.96      0.93       163\n",
      "           2       0.81      0.87      0.84       190\n",
      "\n",
      "    accuracy                           0.86       540\n",
      "   macro avg       0.87      0.87      0.87       540\n",
      "weighted avg       0.87      0.86      0.86       540\n",
      "\n",
      "=================================================\n",
      "Epoch 1/50\n",
      "68/68 [==============================] - 7s 74ms/step - loss: 0.9468 - accuracy: 0.5458 - precision: 0.6228 - recall: 0.3685 - val_loss: 0.7798 - val_accuracy: 0.6481 - val_precision: 0.6881 - val_recall: 0.5556\n",
      "Epoch 2/50\n",
      "68/68 [==============================] - 5s 72ms/step - loss: 0.6762 - accuracy: 0.7222 - precision: 0.7673 - recall: 0.6458 - val_loss: 0.6758 - val_accuracy: 0.7296 - val_precision: 0.7490 - val_recall: 0.6907\n",
      "Epoch 3/50\n",
      "68/68 [==============================] - 5s 67ms/step - loss: 0.4974 - accuracy: 0.8028 - precision: 0.8313 - recall: 0.7690 - val_loss: 0.5659 - val_accuracy: 0.7704 - val_precision: 0.7744 - val_recall: 0.7500\n",
      "Epoch 4/50\n",
      "68/68 [==============================] - 4s 66ms/step - loss: 0.3738 - accuracy: 0.8602 - precision: 0.8781 - recall: 0.8407 - val_loss: 0.5433 - val_accuracy: 0.7815 - val_precision: 0.8008 - val_recall: 0.7667\n",
      "Epoch 5/50\n",
      "68/68 [==============================] - 5s 67ms/step - loss: 0.3029 - accuracy: 0.9005 - precision: 0.9116 - recall: 0.8875 - val_loss: 0.5274 - val_accuracy: 0.8167 - val_precision: 0.8324 - val_recall: 0.8000\n",
      "Epoch 6/50\n",
      "68/68 [==============================] - 5s 67ms/step - loss: 0.2665 - accuracy: 0.9028 - precision: 0.9105 - recall: 0.8954 - val_loss: 0.4920 - val_accuracy: 0.8407 - val_precision: 0.8473 - val_recall: 0.8222\n",
      "Epoch 7/50\n",
      "68/68 [==============================] - 5s 68ms/step - loss: 0.2177 - accuracy: 0.9245 - precision: 0.9334 - recall: 0.9144 - val_loss: 0.4965 - val_accuracy: 0.8500 - val_precision: 0.8579 - val_recall: 0.8500\n",
      "Epoch 8/50\n",
      "68/68 [==============================] - 5s 67ms/step - loss: 0.1722 - accuracy: 0.9417 - precision: 0.9455 - recall: 0.9324 - val_loss: 0.5037 - val_accuracy: 0.8648 - val_precision: 0.8694 - val_recall: 0.8630\n",
      "Epoch 9/50\n",
      "68/68 [==============================] - 5s 68ms/step - loss: 0.1534 - accuracy: 0.9477 - precision: 0.9532 - recall: 0.9421 - val_loss: 0.5070 - val_accuracy: 0.8519 - val_precision: 0.8574 - val_recall: 0.8463\n",
      "Epoch 9: early stopping\n",
      "17/17 [==============================] - 1s 16ms/step\n",
      "              precision    recall  f1-score   support\n",
      "\n",
      "           0       0.82      0.81      0.82       181\n",
      "           1       0.89      0.90      0.89       183\n",
      "           2       0.84      0.85      0.85       176\n",
      "\n",
      "    accuracy                           0.85       540\n",
      "   macro avg       0.85      0.85      0.85       540\n",
      "weighted avg       0.85      0.85      0.85       540\n",
      "\n",
      "=================================================\n",
      "Epoch 1/50\n",
      "68/68 [==============================] - 8s 82ms/step - loss: 0.9623 - accuracy: 0.5120 - precision: 0.6024 - recall: 0.3269 - val_loss: 0.7903 - val_accuracy: 0.6574 - val_precision: 0.7116 - val_recall: 0.5667\n",
      "Epoch 2/50\n",
      "68/68 [==============================] - 8s 120ms/step - loss: 0.6976 - accuracy: 0.7014 - precision: 0.7418 - recall: 0.6171 - val_loss: 0.6756 - val_accuracy: 0.7389 - val_precision: 0.7667 - val_recall: 0.7000\n",
      "Epoch 3/50\n",
      "68/68 [==============================] - 5s 70ms/step - loss: 0.5202 - accuracy: 0.7889 - precision: 0.8144 - recall: 0.7514 - val_loss: 0.5662 - val_accuracy: 0.7796 - val_precision: 0.7957 - val_recall: 0.7500\n",
      "Epoch 4/50\n",
      "68/68 [==============================] - 5s 77ms/step - loss: 0.3907 - accuracy: 0.8546 - precision: 0.8711 - recall: 0.8259 - val_loss: 0.5002 - val_accuracy: 0.8370 - val_precision: 0.8417 - val_recall: 0.8074\n",
      "Epoch 5/50\n",
      "68/68 [==============================] - 5s 80ms/step - loss: 0.3089 - accuracy: 0.8829 - precision: 0.8939 - recall: 0.8694 - val_loss: 0.5076 - val_accuracy: 0.8296 - val_precision: 0.8428 - val_recall: 0.8241\n",
      "Epoch 6/50\n",
      "68/68 [==============================] - 5s 80ms/step - loss: 0.2285 - accuracy: 0.9194 - precision: 0.9250 - recall: 0.9079 - val_loss: 0.5550 - val_accuracy: 0.8296 - val_precision: 0.8388 - val_recall: 0.8093\n",
      "Epoch 7/50\n",
      "68/68 [==============================] - 6s 85ms/step - loss: 0.2131 - accuracy: 0.9227 - precision: 0.9304 - recall: 0.9153 - val_loss: 0.5013 - val_accuracy: 0.8537 - val_precision: 0.8663 - val_recall: 0.8519\n",
      "Epoch 7: early stopping\n",
      "17/17 [==============================] - 1s 21ms/step\n",
      "              precision    recall  f1-score   support\n",
      "\n",
      "           0       0.80      0.84      0.82       172\n",
      "           1       0.93      0.87      0.90       209\n",
      "           2       0.83      0.85      0.84       159\n",
      "\n",
      "    accuracy                           0.85       540\n",
      "   macro avg       0.85      0.85      0.85       540\n",
      "weighted avg       0.86      0.85      0.85       540\n",
      "\n",
      "=================================================\n",
      "Epoch 1/50\n",
      "68/68 [==============================] - 9s 86ms/step - loss: 0.9779 - accuracy: 0.5065 - precision: 0.6051 - recall: 0.3384 - val_loss: 0.8273 - val_accuracy: 0.6259 - val_precision: 0.6410 - val_recall: 0.5093\n",
      "Epoch 2/50\n",
      "68/68 [==============================] - 5s 78ms/step - loss: 0.6982 - accuracy: 0.7023 - precision: 0.7426 - recall: 0.6130 - val_loss: 0.8170 - val_accuracy: 0.6481 - val_precision: 0.6617 - val_recall: 0.5796\n",
      "Epoch 3/50\n",
      "68/68 [==============================] - 5s 76ms/step - loss: 0.5602 - accuracy: 0.7731 - precision: 0.8066 - recall: 0.7296 - val_loss: 0.6178 - val_accuracy: 0.7556 - val_precision: 0.7903 - val_recall: 0.7259\n"
     ]
    },
    {
     "name": "stdout",
     "output_type": "stream",
     "text": [
      "Epoch 4/50\n",
      "68/68 [==============================] - 5s 73ms/step - loss: 0.4066 - accuracy: 0.8542 - precision: 0.8674 - recall: 0.8204 - val_loss: 0.5170 - val_accuracy: 0.8278 - val_precision: 0.8489 - val_recall: 0.8222\n",
      "Epoch 5/50\n",
      "68/68 [==============================] - 5s 77ms/step - loss: 0.3154 - accuracy: 0.8856 - precision: 0.8996 - recall: 0.8708 - val_loss: 0.5052 - val_accuracy: 0.8296 - val_precision: 0.8403 - val_recall: 0.8185\n",
      "Epoch 6/50\n",
      "68/68 [==============================] - 5s 75ms/step - loss: 0.2966 - accuracy: 0.8912 - precision: 0.9005 - recall: 0.8801 - val_loss: 0.5159 - val_accuracy: 0.8204 - val_precision: 0.8302 - val_recall: 0.8148\n",
      "Epoch 7/50\n",
      "68/68 [==============================] - 5s 73ms/step - loss: 0.2393 - accuracy: 0.9153 - precision: 0.9261 - recall: 0.9046 - val_loss: 0.5100 - val_accuracy: 0.8352 - val_precision: 0.8511 - val_recall: 0.8259\n",
      "Epoch 8/50\n",
      "68/68 [==============================] - 5s 73ms/step - loss: 0.1754 - accuracy: 0.9347 - precision: 0.9418 - recall: 0.9287 - val_loss: 0.5413 - val_accuracy: 0.8444 - val_precision: 0.8528 - val_recall: 0.8370\n",
      "Epoch 8: early stopping\n",
      "17/17 [==============================] - 1s 17ms/step\n",
      "              precision    recall  f1-score   support\n",
      "\n",
      "           0       0.82      0.86      0.84       183\n",
      "           1       0.85      0.91      0.88       154\n",
      "           2       0.86      0.78      0.82       203\n",
      "\n",
      "    accuracy                           0.84       540\n",
      "   macro avg       0.84      0.85      0.85       540\n",
      "weighted avg       0.85      0.84      0.84       540\n",
      "\n",
      "=================================================\n",
      "Epoch 1/50\n",
      "68/68 [==============================] - 8s 85ms/step - loss: 0.9707 - accuracy: 0.5185 - precision: 0.5860 - recall: 0.3329 - val_loss: 0.7758 - val_accuracy: 0.6704 - val_precision: 0.7354 - val_recall: 0.5352\n",
      "Epoch 2/50\n",
      "68/68 [==============================] - 5s 72ms/step - loss: 0.7471 - accuracy: 0.6782 - precision: 0.7391 - recall: 0.5731 - val_loss: 0.7290 - val_accuracy: 0.6870 - val_precision: 0.7093 - val_recall: 0.6463\n",
      "Epoch 3/50\n",
      "68/68 [==============================] - 5s 73ms/step - loss: 0.5615 - accuracy: 0.7713 - precision: 0.8096 - recall: 0.7282 - val_loss: 0.5377 - val_accuracy: 0.7741 - val_precision: 0.7957 - val_recall: 0.7500\n",
      "Epoch 4/50\n",
      "68/68 [==============================] - 5s 73ms/step - loss: 0.4363 - accuracy: 0.8352 - precision: 0.8511 - recall: 0.8097 - val_loss: 0.5051 - val_accuracy: 0.7981 - val_precision: 0.8147 - val_recall: 0.7815\n",
      "Epoch 5/50\n",
      "68/68 [==============================] - 5s 72ms/step - loss: 0.3362 - accuracy: 0.8745 - precision: 0.8931 - recall: 0.8583 - val_loss: 0.4560 - val_accuracy: 0.8352 - val_precision: 0.8489 - val_recall: 0.8222\n",
      "Epoch 6/50\n",
      "68/68 [==============================] - 5s 69ms/step - loss: 0.2676 - accuracy: 0.9083 - precision: 0.9169 - recall: 0.8944 - val_loss: 0.4622 - val_accuracy: 0.8167 - val_precision: 0.8233 - val_recall: 0.8111\n",
      "Epoch 7/50\n",
      "68/68 [==============================] - 5s 70ms/step - loss: 0.2524 - accuracy: 0.9106 - precision: 0.9171 - recall: 0.9014 - val_loss: 0.5405 - val_accuracy: 0.8463 - val_precision: 0.8486 - val_recall: 0.8407\n",
      "Epoch 8/50\n",
      "68/68 [==============================] - 5s 71ms/step - loss: 0.2276 - accuracy: 0.9120 - precision: 0.9184 - recall: 0.9065 - val_loss: 0.4641 - val_accuracy: 0.8648 - val_precision: 0.8670 - val_recall: 0.8574\n",
      "Epoch 8: early stopping\n",
      "17/17 [==============================] - 1s 17ms/step\n",
      "              precision    recall  f1-score   support\n",
      "\n",
      "           0       0.88      0.77      0.82       177\n",
      "           1       0.92      0.93      0.92       191\n",
      "           2       0.80      0.90      0.84       172\n",
      "\n",
      "    accuracy                           0.86       540\n",
      "   macro avg       0.87      0.86      0.86       540\n",
      "weighted avg       0.87      0.86      0.86       540\n",
      "\n",
      "=================================================\n",
      "\n",
      "Rata-rata Akurasi:  0.8559\n",
      "Rata-rata Precision:  0.8562\n",
      "Rata-rata Recall:  0.8573\n",
      "Rata-rata F1-score:  0.8556\n",
      "Rata-rata Loss: 0.4943\n"
     ]
    }
   ],
   "source": [
    "kf = KFold(n_splits=5,random_state=42,shuffle=True)\n",
    "\n",
    "UNITS = 128\n",
    "\n",
    "X = data_pad\n",
    "y = Y\n",
    "\n",
    "accuracy_scores = []\n",
    "precision_scores = []\n",
    "recall_scores = []\n",
    "efwan = []\n",
    "loss_scores = []\n",
    "\n",
    "for train_index, test_index in kf.split(X):\n",
    "    X_train, X_test = X[train_index], X[test_index]\n",
    "    y_train, y_test = y[train_index], y[test_index]\n",
    "    \n",
    "    tf.keras.backend.clear_session()\n",
    "\n",
    "    model = Sequential()\n",
    "    model.add(Embedding(\n",
    "        input_dim = WV_DICTIONARY_SIZE,\n",
    "        output_dim = EMBEDDING_SIZE,\n",
    "        input_length = MAX_SEQ_LENGTH,\n",
    "        #trainable = True,\n",
    "        embeddings_initializer=Constant(EMBEDDING_MATRIX)))\n",
    "    model.add(LSTM(UNITS, dropout=0.5, return_sequences=False))\n",
    "    model.add(Dense(NUM_CLASS, activation='softmax'))\n",
    "    \n",
    "    METRICS = [\n",
    "           tf.keras.metrics.CategoricalAccuracy(name='accuracy'),\n",
    "           tf.keras.metrics.Precision(name='precision'),\n",
    "           tf.keras.metrics.Recall(name='recall')\n",
    "    ]\n",
    "\n",
    "    LEARNING_RATE = 0.005\n",
    "\n",
    "    OPTIMIZER = Adam(learning_rate=LEARNING_RATE)\n",
    "    LOSS_FUNCTION = CategoricalCrossentropy(name='categorical_crossentropy')\n",
    "\n",
    "    model.compile(loss=LOSS_FUNCTION, optimizer=OPTIMIZER, metrics=METRICS)\n",
    "    \n",
    "    early_stopping = EarlyStopping(monitor='val_loss', mode='auto', verbose=1, patience=3)\n",
    "    \n",
    "    EPOCHS = 50\n",
    "    BATCH_SIZE = 32\n",
    "\n",
    "    model_history = model.fit(\n",
    "        X_train, \n",
    "        y_train, \n",
    "        epochs=EPOCHS,\n",
    "        batch_size=BATCH_SIZE, \n",
    "        validation_data=(X_test, y_test), \n",
    "        verbose=1, \n",
    "        steps_per_epoch=int(np.ceil(X_train.shape[0] / BATCH_SIZE)),\n",
    "        callbacks=[early_stopping]\n",
    "    )\n",
    "    \n",
    "    y_pred = np.argmax(model.predict(X_test), axis=1)\n",
    "    y_true = np.argmax(y_test, axis=1)\n",
    "    \n",
    "    print(classification_report(y_true, y_pred))\n",
    "    print(\"=================================================\")\n",
    "    \n",
    "    evaluation = model.evaluate(X_test, y_test, verbose=0)\n",
    "    accuracy_scores.append(accuracy_score(y_true, y_pred))\n",
    "    precision_scores.append(precision_score(y_true, y_pred, average='macro'))\n",
    "    recall_scores.append(recall_score(y_true, y_pred, average='macro'))\n",
    "    efwan.append(f1_score(y_true, y_pred, average='macro'))\n",
    "    loss_scores.append(evaluation[0])\n",
    "    \n",
    "print()\n",
    "avg_accuracy = np.mean(accuracy_scores)\n",
    "avg_precision = np.mean(precision_scores)\n",
    "avg_recall = np.mean(recall_scores)\n",
    "avg_f1 = np.mean(efwan)\n",
    "avg_loss = sum(loss_scores) / len(loss_scores)\n",
    "\n",
    "print(\"Rata-rata Akurasi: \", round(avg_accuracy,4))\n",
    "print(\"Rata-rata Precision: \", round(avg_precision,4))\n",
    "print(\"Rata-rata Recall: \", round(avg_recall,4))\n",
    "print(\"Rata-rata F1-score: \", round(avg_f1,4))\n",
    "print(\"Rata-rata Loss: {:.4f}\".format(avg_loss))\n"
   ]
  },
  {
   "cell_type": "markdown",
   "metadata": {},
   "source": [
    "### Bi-LSTM"
   ]
  },
  {
   "cell_type": "code",
   "execution_count": 29,
   "metadata": {},
   "outputs": [],
   "source": [
    "UNITS = 64\n",
    "\n",
    "tf.keras.backend.clear_session()\n",
    "\n",
    "model = Sequential()\n",
    "model.add(Embedding(\n",
    "    input_dim = WV_DICTIONARY_SIZE,                                \n",
    "    output_dim = EMBEDDING_SIZE,                           \n",
    "    input_length = MAX_SEQ_LENGTH,  \n",
    "    #trainable = False,\n",
    "    embeddings_initializer=Constant(EMBEDDING_MATRIX)))\n",
    "model.add(Bidirectional(LSTM(UNITS, dropout=0.5, return_sequences=False)))\n",
    "model.add(Dense(UNITS, activation='relu'))\n",
    "#model.add(Dropout(0.5))\n",
    "model.add(Dense(NUM_CLASS, activation='softmax'))"
   ]
  },
  {
   "cell_type": "code",
   "execution_count": 38,
   "metadata": {},
   "outputs": [
    {
     "name": "stdout",
     "output_type": "stream",
     "text": [
      "Epoch 1/10\n",
      "68/68 [==============================] - 11s 121ms/step - loss: 0.9993 - accuracy: 0.4894 - precision: 0.6000 - recall: 0.2583 - val_loss: 0.8792 - val_accuracy: 0.5630 - val_precision: 0.6143 - val_recall: 0.4630\n",
      "Epoch 2/10\n",
      "68/68 [==============================] - 7s 109ms/step - loss: 0.7433 - accuracy: 0.6694 - precision: 0.7304 - recall: 0.5819 - val_loss: 1.0319 - val_accuracy: 0.5778 - val_precision: 0.6057 - val_recall: 0.5463\n",
      "Epoch 3/10\n",
      "68/68 [==============================] - 8s 112ms/step - loss: 0.5863 - accuracy: 0.7579 - precision: 0.7879 - recall: 0.7241 - val_loss: 0.6001 - val_accuracy: 0.7648 - val_precision: 0.8146 - val_recall: 0.7241\n",
      "Epoch 4/10\n",
      "68/68 [==============================] - 8s 113ms/step - loss: 0.4541 - accuracy: 0.8208 - precision: 0.8400 - recall: 0.7972 - val_loss: 0.6896 - val_accuracy: 0.7370 - val_precision: 0.7486 - val_recall: 0.7278\n",
      "Epoch 5/10\n",
      "68/68 [==============================] - 8s 114ms/step - loss: 0.3874 - accuracy: 0.8440 - precision: 0.8602 - recall: 0.8259 - val_loss: 0.5546 - val_accuracy: 0.8111 - val_precision: 0.8222 - val_recall: 0.7963\n",
      "Epoch 6/10\n",
      "68/68 [==============================] - 8s 115ms/step - loss: 0.3022 - accuracy: 0.8912 - precision: 0.9001 - recall: 0.8801 - val_loss: 0.5009 - val_accuracy: 0.8315 - val_precision: 0.8434 - val_recall: 0.8278\n",
      "Epoch 7/10\n",
      "68/68 [==============================] - 8s 121ms/step - loss: 0.2569 - accuracy: 0.9032 - precision: 0.9114 - recall: 0.8954 - val_loss: 0.5607 - val_accuracy: 0.8259 - val_precision: 0.8387 - val_recall: 0.8185\n",
      "Epoch 8/10\n",
      "68/68 [==============================] - 8s 117ms/step - loss: 0.2451 - accuracy: 0.9106 - precision: 0.9202 - recall: 0.9028 - val_loss: 0.5697 - val_accuracy: 0.8426 - val_precision: 0.8526 - val_recall: 0.8352\n",
      "Epoch 9/10\n",
      "68/68 [==============================] - 8s 117ms/step - loss: 0.1891 - accuracy: 0.9264 - precision: 0.9294 - recall: 0.9208 - val_loss: 0.5796 - val_accuracy: 0.8259 - val_precision: 0.8333 - val_recall: 0.8241\n",
      "Epoch 9: early stopping\n",
      "17/17 [==============================] - 1s 28ms/step\n",
      "              precision    recall  f1-score   support\n",
      "\n",
      "           0       0.82      0.79      0.80       187\n",
      "           1       0.85      0.90      0.87       163\n",
      "           2       0.81      0.81      0.81       190\n",
      "\n",
      "    accuracy                           0.83       540\n",
      "   macro avg       0.83      0.83      0.83       540\n",
      "weighted avg       0.83      0.83      0.83       540\n",
      "\n",
      "=================================================\n",
      "Epoch 1/10\n",
      "68/68 [==============================] - 12s 131ms/step - loss: 0.9831 - accuracy: 0.5051 - precision: 0.6074 - recall: 0.2801 - val_loss: 0.8068 - val_accuracy: 0.6056 - val_precision: 0.6488 - val_recall: 0.5370\n",
      "Epoch 2/10\n",
      "68/68 [==============================] - 8s 118ms/step - loss: 0.7366 - accuracy: 0.6829 - precision: 0.7259 - recall: 0.5847 - val_loss: 0.7894 - val_accuracy: 0.6537 - val_precision: 0.6768 - val_recall: 0.6204\n",
      "Epoch 3/10\n",
      "68/68 [==============================] - 8s 116ms/step - loss: 0.5715 - accuracy: 0.7639 - precision: 0.7934 - recall: 0.7111 - val_loss: 0.5752 - val_accuracy: 0.7889 - val_precision: 0.8191 - val_recall: 0.7463\n",
      "Epoch 4/10\n",
      "68/68 [==============================] - 8s 118ms/step - loss: 0.4802 - accuracy: 0.8204 - precision: 0.8429 - recall: 0.7921 - val_loss: 0.5826 - val_accuracy: 0.7796 - val_precision: 0.8036 - val_recall: 0.7352\n",
      "Epoch 5/10\n",
      "68/68 [==============================] - 8s 120ms/step - loss: 0.3907 - accuracy: 0.8546 - precision: 0.8693 - recall: 0.8343 - val_loss: 0.5041 - val_accuracy: 0.8167 - val_precision: 0.8333 - val_recall: 0.7963\n",
      "Epoch 6/10\n",
      "68/68 [==============================] - 8s 119ms/step - loss: 0.3082 - accuracy: 0.8819 - precision: 0.8950 - recall: 0.8685 - val_loss: 0.5318 - val_accuracy: 0.8093 - val_precision: 0.8222 - val_recall: 0.7963\n",
      "Epoch 7/10\n",
      "68/68 [==============================] - 8s 118ms/step - loss: 0.2782 - accuracy: 0.9014 - precision: 0.9095 - recall: 0.8935 - val_loss: 0.4761 - val_accuracy: 0.8500 - val_precision: 0.8626 - val_recall: 0.8370\n",
      "Epoch 8/10\n",
      "68/68 [==============================] - 8s 117ms/step - loss: 0.2333 - accuracy: 0.9153 - precision: 0.9243 - recall: 0.9102 - val_loss: 0.5279 - val_accuracy: 0.8500 - val_precision: 0.8529 - val_recall: 0.8481\n",
      "Epoch 9/10\n",
      "68/68 [==============================] - 8s 119ms/step - loss: 0.2112 - accuracy: 0.9218 - precision: 0.9276 - recall: 0.9139 - val_loss: 0.5744 - val_accuracy: 0.8519 - val_precision: 0.8558 - val_recall: 0.8463\n",
      "Epoch 10/10\n",
      "68/68 [==============================] - 8s 119ms/step - loss: 0.2166 - accuracy: 0.9157 - precision: 0.9239 - recall: 0.9111 - val_loss: 0.5775 - val_accuracy: 0.8481 - val_precision: 0.8507 - val_recall: 0.8333\n",
      "Epoch 10: early stopping\n",
      "17/17 [==============================] - 1s 27ms/step\n",
      "              precision    recall  f1-score   support\n",
      "\n",
      "           0       0.84      0.78      0.81       181\n",
      "           1       0.83      0.95      0.89       183\n",
      "           2       0.88      0.81      0.84       176\n",
      "\n",
      "    accuracy                           0.85       540\n",
      "   macro avg       0.85      0.85      0.85       540\n",
      "weighted avg       0.85      0.85      0.85       540\n",
      "\n",
      "=================================================\n",
      "Epoch 1/10\n",
      "68/68 [==============================] - 12s 134ms/step - loss: 0.9487 - accuracy: 0.5245 - precision: 0.6354 - recall: 0.3292 - val_loss: 0.8562 - val_accuracy: 0.6389 - val_precision: 0.6617 - val_recall: 0.5796\n",
      "Epoch 2/10\n",
      "68/68 [==============================] - 8s 122ms/step - loss: 0.7735 - accuracy: 0.6435 - precision: 0.7070 - recall: 0.5306 - val_loss: 0.7518 - val_accuracy: 0.6407 - val_precision: 0.6972 - val_recall: 0.5926\n",
      "Epoch 3/10\n",
      "68/68 [==============================] - 8s 124ms/step - loss: 0.6018 - accuracy: 0.7440 - precision: 0.7802 - recall: 0.7000 - val_loss: 0.6160 - val_accuracy: 0.7556 - val_precision: 0.7780 - val_recall: 0.7333\n",
      "Epoch 4/10\n",
      "68/68 [==============================] - 8s 120ms/step - loss: 0.4650 - accuracy: 0.8111 - precision: 0.8306 - recall: 0.7833 - val_loss: 0.6516 - val_accuracy: 0.7389 - val_precision: 0.7681 - val_recall: 0.7056\n",
      "Epoch 5/10\n",
      "68/68 [==============================] - 8s 122ms/step - loss: 0.4124 - accuracy: 0.8352 - precision: 0.8546 - recall: 0.8162 - val_loss: 0.5516 - val_accuracy: 0.8093 - val_precision: 0.8235 - val_recall: 0.8037\n",
      "Epoch 6/10\n",
      "68/68 [==============================] - 8s 124ms/step - loss: 0.3398 - accuracy: 0.8718 - precision: 0.8803 - recall: 0.8611 - val_loss: 0.5618 - val_accuracy: 0.8241 - val_precision: 0.8381 - val_recall: 0.8148\n",
      "Epoch 7/10\n",
      "68/68 [==============================] - 8s 121ms/step - loss: 0.2977 - accuracy: 0.8856 - precision: 0.8977 - recall: 0.8694 - val_loss: 0.5430 - val_accuracy: 0.8481 - val_precision: 0.8544 - val_recall: 0.8370\n",
      "Epoch 8/10\n",
      "68/68 [==============================] - 8s 117ms/step - loss: 0.2565 - accuracy: 0.9000 - precision: 0.9110 - recall: 0.8866 - val_loss: 0.6225 - val_accuracy: 0.8352 - val_precision: 0.8352 - val_recall: 0.8352\n",
      "Epoch 9/10\n",
      "68/68 [==============================] - 8s 118ms/step - loss: 0.2321 - accuracy: 0.9120 - precision: 0.9182 - recall: 0.8991 - val_loss: 0.6724 - val_accuracy: 0.8426 - val_precision: 0.8436 - val_recall: 0.8389\n",
      "Epoch 10/10\n",
      "68/68 [==============================] - 8s 116ms/step - loss: 0.2043 - accuracy: 0.9306 - precision: 0.9331 - recall: 0.9236 - val_loss: 0.6163 - val_accuracy: 0.8444 - val_precision: 0.8486 - val_recall: 0.8407\n",
      "Epoch 10: early stopping\n",
      "17/17 [==============================] - 1s 26ms/step\n",
      "              precision    recall  f1-score   support\n",
      "\n",
      "           0       0.79      0.80      0.79       172\n",
      "           1       0.92      0.90      0.91       209\n",
      "           2       0.81      0.82      0.81       159\n",
      "\n",
      "    accuracy                           0.84       540\n",
      "   macro avg       0.84      0.84      0.84       540\n",
      "weighted avg       0.85      0.84      0.84       540\n",
      "\n",
      "=================================================\n",
      "Epoch 1/10\n",
      "68/68 [==============================] - 12s 132ms/step - loss: 0.9704 - accuracy: 0.5005 - precision: 0.5956 - recall: 0.3042 - val_loss: 0.8455 - val_accuracy: 0.6000 - val_precision: 0.6349 - val_recall: 0.5185\n"
     ]
    },
    {
     "name": "stdout",
     "output_type": "stream",
     "text": [
      "Epoch 2/10\n",
      "68/68 [==============================] - 8s 119ms/step - loss: 0.7462 - accuracy: 0.6574 - precision: 0.7147 - recall: 0.5764 - val_loss: 0.7308 - val_accuracy: 0.6889 - val_precision: 0.7309 - val_recall: 0.6037\n",
      "Epoch 3/10\n",
      "68/68 [==============================] - 8s 122ms/step - loss: 0.5915 - accuracy: 0.7602 - precision: 0.7914 - recall: 0.7130 - val_loss: 0.6437 - val_accuracy: 0.7444 - val_precision: 0.7695 - val_recall: 0.6926\n",
      "Epoch 4/10\n",
      "68/68 [==============================] - 8s 121ms/step - loss: 0.4407 - accuracy: 0.8245 - precision: 0.8449 - recall: 0.7995 - val_loss: 0.6102 - val_accuracy: 0.7963 - val_precision: 0.8137 - val_recall: 0.7685\n",
      "Epoch 5/10\n",
      "68/68 [==============================] - 8s 120ms/step - loss: 0.3632 - accuracy: 0.8556 - precision: 0.8686 - recall: 0.8384 - val_loss: 0.6457 - val_accuracy: 0.7778 - val_precision: 0.7854 - val_recall: 0.7593\n",
      "Epoch 6/10\n",
      "68/68 [==============================] - 8s 120ms/step - loss: 0.2881 - accuracy: 0.8880 - precision: 0.8962 - recall: 0.8755 - val_loss: 0.6237 - val_accuracy: 0.8222 - val_precision: 0.8296 - val_recall: 0.8204\n",
      "Epoch 7/10\n",
      "68/68 [==============================] - 8s 120ms/step - loss: 0.2722 - accuracy: 0.8912 - precision: 0.9053 - recall: 0.8847 - val_loss: 0.5676 - val_accuracy: 0.8407 - val_precision: 0.8453 - val_recall: 0.8296\n",
      "Epoch 8/10\n",
      "68/68 [==============================] - 8s 119ms/step - loss: 0.2337 - accuracy: 0.9162 - precision: 0.9222 - recall: 0.9106 - val_loss: 0.5902 - val_accuracy: 0.8278 - val_precision: 0.8318 - val_recall: 0.8148\n",
      "Epoch 9/10\n",
      "68/68 [==============================] - 8s 120ms/step - loss: 0.2213 - accuracy: 0.9199 - precision: 0.9280 - recall: 0.9125 - val_loss: 0.6385 - val_accuracy: 0.8296 - val_precision: 0.8352 - val_recall: 0.8259\n",
      "Epoch 10/10\n",
      "68/68 [==============================] - 8s 121ms/step - loss: 0.1865 - accuracy: 0.9296 - precision: 0.9367 - recall: 0.9250 - val_loss: 0.6390 - val_accuracy: 0.8426 - val_precision: 0.8496 - val_recall: 0.8370\n",
      "Epoch 10: early stopping\n",
      "17/17 [==============================] - 1s 26ms/step\n",
      "              precision    recall  f1-score   support\n",
      "\n",
      "           0       0.82      0.81      0.82       183\n",
      "           1       0.85      0.90      0.87       154\n",
      "           2       0.86      0.82      0.84       203\n",
      "\n",
      "    accuracy                           0.84       540\n",
      "   macro avg       0.84      0.85      0.84       540\n",
      "weighted avg       0.84      0.84      0.84       540\n",
      "\n",
      "=================================================\n",
      "Epoch 1/10\n",
      "68/68 [==============================] - 13s 139ms/step - loss: 0.9746 - accuracy: 0.5046 - precision: 0.6144 - recall: 0.3009 - val_loss: 0.8258 - val_accuracy: 0.6222 - val_precision: 0.6952 - val_recall: 0.5111\n",
      "Epoch 2/10\n",
      "68/68 [==============================] - 9s 125ms/step - loss: 0.7268 - accuracy: 0.6755 - precision: 0.7264 - recall: 0.5815 - val_loss: 0.6962 - val_accuracy: 0.6852 - val_precision: 0.7310 - val_recall: 0.6593\n",
      "Epoch 3/10\n",
      "68/68 [==============================] - 8s 125ms/step - loss: 0.5608 - accuracy: 0.7657 - precision: 0.7907 - recall: 0.7278 - val_loss: 0.5842 - val_accuracy: 0.7648 - val_precision: 0.7909 - val_recall: 0.7426\n",
      "Epoch 4/10\n",
      "68/68 [==============================] - 9s 125ms/step - loss: 0.4747 - accuracy: 0.8116 - precision: 0.8340 - recall: 0.7884 - val_loss: 0.5847 - val_accuracy: 0.7926 - val_precision: 0.7938 - val_recall: 0.7630\n",
      "Epoch 5/10\n",
      "68/68 [==============================] - 9s 126ms/step - loss: 0.3629 - accuracy: 0.8486 - precision: 0.8641 - recall: 0.8333 - val_loss: 0.5060 - val_accuracy: 0.8056 - val_precision: 0.8164 - val_recall: 0.7907\n",
      "Epoch 6/10\n",
      "68/68 [==============================] - 9s 128ms/step - loss: 0.3029 - accuracy: 0.8801 - precision: 0.8945 - recall: 0.8718 - val_loss: 0.4911 - val_accuracy: 0.8500 - val_precision: 0.8529 - val_recall: 0.8481\n",
      "Epoch 7/10\n",
      "68/68 [==============================] - 9s 135ms/step - loss: 0.2714 - accuracy: 0.9019 - precision: 0.9066 - recall: 0.8944 - val_loss: 0.5416 - val_accuracy: 0.8278 - val_precision: 0.8302 - val_recall: 0.8241\n",
      "Epoch 8/10\n",
      "68/68 [==============================] - 9s 126ms/step - loss: 0.2528 - accuracy: 0.9019 - precision: 0.9099 - recall: 0.8972 - val_loss: 0.6003 - val_accuracy: 0.8333 - val_precision: 0.8377 - val_recall: 0.8315\n",
      "Epoch 9/10\n",
      "68/68 [==============================] - 9s 126ms/step - loss: 0.2093 - accuracy: 0.9236 - precision: 0.9306 - recall: 0.9190 - val_loss: 0.5528 - val_accuracy: 0.8481 - val_precision: 0.8531 - val_recall: 0.8278\n",
      "Epoch 9: early stopping\n",
      "17/17 [==============================] - 1s 29ms/step\n",
      "              precision    recall  f1-score   support\n",
      "\n",
      "           0       0.88      0.73      0.80       177\n",
      "           1       0.85      0.93      0.89       191\n",
      "           2       0.82      0.88      0.85       172\n",
      "\n",
      "    accuracy                           0.85       540\n",
      "   macro avg       0.85      0.85      0.85       540\n",
      "weighted avg       0.85      0.85      0.85       540\n",
      "\n",
      "=================================================\n",
      "\n",
      "Average Accuracy: 0.8419\n",
      "Average Precision: 0.8419\n",
      "Average Recall: 0.8419\n",
      "Average F1-score: 0.8419\n",
      "Average Loss: 0.5930\n"
     ]
    }
   ],
   "source": [
    "kf = KFold(n_splits=5,random_state=42,shuffle=True)\n",
    "\n",
    "UNITS = 128\n",
    "\n",
    "X = data_pad\n",
    "y = Y\n",
    "\n",
    "accuracy_scores = []\n",
    "precision_scores = []\n",
    "recall_scores = []\n",
    "f1_scores = []\n",
    "loss_scores = []\n",
    "\n",
    "for train_index, test_index in kf.split(X):\n",
    "    X_train, X_test = X[train_index], X[test_index]\n",
    "    y_train, y_test = y[train_index], y[test_index]\n",
    "    \n",
    "    tf.keras.backend.clear_session()\n",
    "\n",
    "    model = Sequential()\n",
    "    model.add(Embedding(\n",
    "        input_dim = WV_DICTIONARY_SIZE,                                \n",
    "        output_dim = EMBEDDING_SIZE,                           \n",
    "        input_length = MAX_SEQ_LENGTH,  \n",
    "        #trainable = False,\n",
    "        embeddings_initializer=Constant(EMBEDDING_MATRIX)))\n",
    "    model.add(Bidirectional(LSTM(UNITS, dropout=0.5, return_sequences=False)))\n",
    "    model.add(Dense(UNITS, activation='relu'))\n",
    "    #model.add(Dropout(0.5))\n",
    "    model.add(Dense(NUM_CLASS, activation='softmax'))\n",
    "    \n",
    "    METRICS = [\n",
    "           tf.keras.metrics.CategoricalAccuracy(name='accuracy'),\n",
    "           tf.keras.metrics.Precision(name='precision'),\n",
    "           tf.keras.metrics.Recall(name='recall')\n",
    "    ]\n",
    "\n",
    "    LEARNING_RATE = 0.005\n",
    "\n",
    "    OPTIMIZER = Adam(learning_rate=LEARNING_RATE)\n",
    "    LOSS_FUNCTION = CategoricalCrossentropy(name='categorical_crossentropy')\n",
    "\n",
    "    model.compile(loss=LOSS_FUNCTION, optimizer=OPTIMIZER, metrics=METRICS)\n",
    "    \n",
    "    early_stopping = EarlyStopping(monitor='val_loss', mode='auto', verbose=1, patience=3)\n",
    "    \n",
    "    EPOCHS = 10\n",
    "    BATCH_SIZE = 32\n",
    "\n",
    "    model_history = model.fit(\n",
    "        X_train, \n",
    "        y_train, \n",
    "        epochs=EPOCHS,\n",
    "        batch_size=BATCH_SIZE, \n",
    "        validation_data=(X_test, y_test), \n",
    "        verbose=1, \n",
    "        steps_per_epoch=int(np.ceil(X_train.shape[0] / BATCH_SIZE)),\n",
    "        callbacks=[early_stopping]\n",
    "    )\n",
    "    \n",
    "    y_pred = np.argmax(model.predict(X_test), axis=1)\n",
    "    y_true = np.argmax(y_test, axis=1)\n",
    "    \n",
    "    print(classification_report(y_true, y_pred))\n",
    "    print(\"=================================================\")\n",
    "    \n",
    "    evaluation = model.evaluate(X_test, y_test, verbose=0)\n",
    "    accuracy_scores.append(evaluation[1])\n",
    "    precision_scores.append(evaluation[1])\n",
    "    recall_scores.append(evaluation[1])\n",
    "    f1_scores.append(evaluation[1])\n",
    "    loss_scores.append(evaluation[0])\n",
    "    \n",
    "print()\n",
    "avg_accuracy = sum(accuracy_scores) / len(accuracy_scores)\n",
    "avg_precision = sum(precision_scores) / len(precision_scores)\n",
    "avg_recall = sum(recall_scores) / len(recall_scores)\n",
    "avg_f1 = sum(f1_scores) / len(f1_scores)\n",
    "avg_loss = sum(loss_scores) / len(loss_scores)\n",
    "print(\"Average Accuracy: {:.4f}\".format(avg_accuracy))\n",
    "print(\"Average Precision: {:.4f}\".format(avg_precision))\n",
    "print(\"Average Recall: {:.4f}\".format(avg_recall))\n",
    "print(\"Average F1-score: {:.4f}\".format(avg_f1))\n",
    "print(\"Average Loss: {:.4f}\".format(avg_loss))\n"
   ]
  },
  {
   "cell_type": "markdown",
   "metadata": {},
   "source": [
    "### GRU"
   ]
  },
  {
   "cell_type": "code",
   "execution_count": 62,
   "metadata": {},
   "outputs": [],
   "source": [
    "units = 128\n",
    "\n",
    "tf.keras.backend.clear_session()\n",
    "\n",
    "model = Sequential()\n",
    "model.add(Embedding(\n",
    "    input_dim = WV_DICTIONARY_SIZE,\n",
    "    output_dim = EMBEDDING_SIZE,\n",
    "    input_length = MAX_SEQ_LENGTH,\n",
    "    #trainable = True,\n",
    "    embeddings_initializer=Constant(EMBEDDING_MATRIX)))\n",
    "model.add(GRU(units, dropout=0.5, return_sequences=False))\n",
    "model.add(Dense(NUM_CLASS, activation='softmax'))"
   ]
  },
  {
   "cell_type": "code",
   "execution_count": 36,
   "metadata": {},
   "outputs": [
    {
     "name": "stdout",
     "output_type": "stream",
     "text": [
      "Epoch 1/10\n",
      "68/68 [==============================] - 7s 74ms/step - loss: 1.0325 - accuracy: 0.4847 - precision: 0.5453 - recall: 0.3370 - val_loss: 0.8030 - val_accuracy: 0.6722 - val_precision: 0.7361 - val_recall: 0.5630\n",
      "Epoch 2/10\n",
      "68/68 [==============================] - 4s 66ms/step - loss: 0.7258 - accuracy: 0.6907 - precision: 0.7331 - recall: 0.6028 - val_loss: 0.6560 - val_accuracy: 0.7389 - val_precision: 0.7824 - val_recall: 0.6926\n",
      "Epoch 3/10\n",
      "68/68 [==============================] - 5s 68ms/step - loss: 0.5728 - accuracy: 0.7755 - precision: 0.8026 - recall: 0.7361 - val_loss: 0.5611 - val_accuracy: 0.7759 - val_precision: 0.8111 - val_recall: 0.7315\n",
      "Epoch 4/10\n",
      "68/68 [==============================] - 5s 69ms/step - loss: 0.4559 - accuracy: 0.8213 - precision: 0.8429 - recall: 0.7995 - val_loss: 0.6303 - val_accuracy: 0.7648 - val_precision: 0.7752 - val_recall: 0.7537\n",
      "Epoch 5/10\n",
      "68/68 [==============================] - 5s 69ms/step - loss: 0.4071 - accuracy: 0.8426 - precision: 0.8563 - recall: 0.8250 - val_loss: 0.4732 - val_accuracy: 0.8278 - val_precision: 0.8457 - val_recall: 0.8222\n",
      "Epoch 6/10\n",
      "68/68 [==============================] - 5s 70ms/step - loss: 0.3156 - accuracy: 0.8870 - precision: 0.9002 - recall: 0.8727 - val_loss: 0.4081 - val_accuracy: 0.8667 - val_precision: 0.8698 - val_recall: 0.8537\n",
      "Epoch 7/10\n",
      "68/68 [==============================] - 5s 72ms/step - loss: 0.2334 - accuracy: 0.9194 - precision: 0.9225 - recall: 0.9093 - val_loss: 0.5185 - val_accuracy: 0.8278 - val_precision: 0.8435 - val_recall: 0.8185\n",
      "Epoch 8/10\n",
      "68/68 [==============================] - 5s 70ms/step - loss: 0.2464 - accuracy: 0.9093 - precision: 0.9169 - recall: 0.9037 - val_loss: 0.4840 - val_accuracy: 0.8611 - val_precision: 0.8703 - val_recall: 0.8574\n",
      "Epoch 9/10\n",
      "68/68 [==============================] - 5s 71ms/step - loss: 0.2074 - accuracy: 0.9222 - precision: 0.9295 - recall: 0.9162 - val_loss: 0.4777 - val_accuracy: 0.8796 - val_precision: 0.8853 - val_recall: 0.8722\n",
      "Epoch 9: early stopping\n",
      "17/17 [==============================] - 1s 15ms/step\n",
      "              precision    recall  f1-score   support\n",
      "\n",
      "           0       0.91      0.80      0.85       187\n",
      "           1       0.85      0.95      0.90       163\n",
      "           2       0.89      0.89      0.89       190\n",
      "\n",
      "    accuracy                           0.88       540\n",
      "   macro avg       0.88      0.88      0.88       540\n",
      "weighted avg       0.88      0.88      0.88       540\n",
      "\n",
      "=================================================\n",
      "Epoch 1/10\n",
      "68/68 [==============================] - 7s 79ms/step - loss: 1.0023 - accuracy: 0.5403 - precision: 0.5738 - recall: 0.3870 - val_loss: 0.8098 - val_accuracy: 0.6204 - val_precision: 0.6725 - val_recall: 0.5741\n",
      "Epoch 2/10\n",
      "68/68 [==============================] - 5s 71ms/step - loss: 0.7027 - accuracy: 0.7046 - precision: 0.7578 - recall: 0.6375 - val_loss: 0.6408 - val_accuracy: 0.7241 - val_precision: 0.7688 - val_recall: 0.6833\n",
      "Epoch 3/10\n",
      "68/68 [==============================] - 5s 71ms/step - loss: 0.5593 - accuracy: 0.7644 - precision: 0.8000 - recall: 0.7333 - val_loss: 0.5909 - val_accuracy: 0.7630 - val_precision: 0.8004 - val_recall: 0.7426\n",
      "Epoch 4/10\n",
      "68/68 [==============================] - 5s 72ms/step - loss: 0.4342 - accuracy: 0.8319 - precision: 0.8478 - recall: 0.8120 - val_loss: 0.5429 - val_accuracy: 0.8130 - val_precision: 0.8250 - val_recall: 0.7944\n",
      "Epoch 5/10\n",
      "68/68 [==============================] - 5s 71ms/step - loss: 0.3729 - accuracy: 0.8528 - precision: 0.8732 - recall: 0.8384 - val_loss: 0.5317 - val_accuracy: 0.8315 - val_precision: 0.8425 - val_recall: 0.8222\n",
      "Epoch 6/10\n",
      "68/68 [==============================] - 5s 71ms/step - loss: 0.2825 - accuracy: 0.8981 - precision: 0.9065 - recall: 0.8889 - val_loss: 0.4565 - val_accuracy: 0.8556 - val_precision: 0.8620 - val_recall: 0.8444\n",
      "Epoch 7/10\n",
      "68/68 [==============================] - 5s 72ms/step - loss: 0.2541 - accuracy: 0.9079 - precision: 0.9114 - recall: 0.9000 - val_loss: 0.5125 - val_accuracy: 0.8463 - val_precision: 0.8550 - val_recall: 0.8407\n",
      "Epoch 8/10\n",
      "68/68 [==============================] - 5s 72ms/step - loss: 0.2182 - accuracy: 0.9218 - precision: 0.9308 - recall: 0.9148 - val_loss: 0.4880 - val_accuracy: 0.8667 - val_precision: 0.8675 - val_recall: 0.8611\n",
      "Epoch 9/10\n",
      "68/68 [==============================] - 5s 72ms/step - loss: 0.2096 - accuracy: 0.9213 - precision: 0.9262 - recall: 0.9176 - val_loss: 0.4994 - val_accuracy: 0.8519 - val_precision: 0.8642 - val_recall: 0.8481\n",
      "Epoch 9: early stopping\n",
      "17/17 [==============================] - 1s 15ms/step\n",
      "              precision    recall  f1-score   support\n",
      "\n",
      "           0       0.87      0.76      0.81       181\n",
      "           1       0.87      0.92      0.90       183\n",
      "           2       0.81      0.87      0.84       176\n",
      "\n",
      "    accuracy                           0.85       540\n",
      "   macro avg       0.85      0.85      0.85       540\n",
      "weighted avg       0.85      0.85      0.85       540\n",
      "\n",
      "=================================================\n",
      "Epoch 1/10\n",
      "68/68 [==============================] - 8s 83ms/step - loss: 0.9993 - accuracy: 0.5120 - precision: 0.5643 - recall: 0.3699 - val_loss: 0.8110 - val_accuracy: 0.6463 - val_precision: 0.6892 - val_recall: 0.5667\n",
      "Epoch 2/10\n",
      "68/68 [==============================] - 5s 74ms/step - loss: 0.7008 - accuracy: 0.6940 - precision: 0.7451 - recall: 0.6185 - val_loss: 0.6579 - val_accuracy: 0.7259 - val_precision: 0.7724 - val_recall: 0.6852\n",
      "Epoch 3/10\n",
      "68/68 [==============================] - 5s 72ms/step - loss: 0.5195 - accuracy: 0.7949 - precision: 0.8152 - recall: 0.7514 - val_loss: 0.5871 - val_accuracy: 0.7870 - val_precision: 0.7969 - val_recall: 0.7630\n",
      "Epoch 4/10\n",
      "68/68 [==============================] - 5s 72ms/step - loss: 0.4283 - accuracy: 0.8315 - precision: 0.8519 - recall: 0.8069 - val_loss: 0.5514 - val_accuracy: 0.8148 - val_precision: 0.8210 - val_recall: 0.7981\n",
      "Epoch 5/10\n",
      "68/68 [==============================] - 5s 71ms/step - loss: 0.3622 - accuracy: 0.8685 - precision: 0.8811 - recall: 0.8472 - val_loss: 0.5194 - val_accuracy: 0.8352 - val_precision: 0.8453 - val_recall: 0.8296\n",
      "Epoch 6/10\n",
      "68/68 [==============================] - 5s 73ms/step - loss: 0.2690 - accuracy: 0.8995 - precision: 0.9071 - recall: 0.8907 - val_loss: 0.5547 - val_accuracy: 0.8130 - val_precision: 0.8253 - val_recall: 0.7963\n",
      "Epoch 7/10\n",
      "68/68 [==============================] - 5s 72ms/step - loss: 0.2393 - accuracy: 0.9120 - precision: 0.9180 - recall: 0.9023 - val_loss: 0.5098 - val_accuracy: 0.8481 - val_precision: 0.8550 - val_recall: 0.8407\n",
      "Epoch 8/10\n",
      "68/68 [==============================] - 5s 72ms/step - loss: 0.2198 - accuracy: 0.9181 - precision: 0.9228 - recall: 0.9130 - val_loss: 0.5059 - val_accuracy: 0.8593 - val_precision: 0.8593 - val_recall: 0.8593\n",
      "Epoch 9/10\n",
      "68/68 [==============================] - 5s 73ms/step - loss: 0.1923 - accuracy: 0.9310 - precision: 0.9353 - recall: 0.9231 - val_loss: 0.4894 - val_accuracy: 0.8593 - val_precision: 0.8601 - val_recall: 0.8537\n",
      "Epoch 10/10\n",
      "68/68 [==============================] - 5s 72ms/step - loss: 0.1467 - accuracy: 0.9468 - precision: 0.9514 - recall: 0.9431 - val_loss: 0.5691 - val_accuracy: 0.8593 - val_precision: 0.8619 - val_recall: 0.8556\n",
      "17/17 [==============================] - 1s 15ms/step\n",
      "              precision    recall  f1-score   support\n",
      "\n",
      "           0       0.83      0.80      0.81       172\n",
      "           1       0.90      0.93      0.91       209\n",
      "           2       0.84      0.83      0.84       159\n",
      "\n",
      "    accuracy                           0.86       540\n",
      "   macro avg       0.86      0.85      0.85       540\n",
      "weighted avg       0.86      0.86      0.86       540\n",
      "\n",
      "=================================================\n",
      "Epoch 1/10\n",
      "68/68 [==============================] - 7s 81ms/step - loss: 1.0185 - accuracy: 0.5190 - precision: 0.5740 - recall: 0.3880 - val_loss: 0.7985 - val_accuracy: 0.6185 - val_precision: 0.6863 - val_recall: 0.5389\n",
      "Epoch 2/10\n",
      "68/68 [==============================] - 5s 73ms/step - loss: 0.7060 - accuracy: 0.6833 - precision: 0.7399 - recall: 0.6097 - val_loss: 0.6842 - val_accuracy: 0.6907 - val_precision: 0.7384 - val_recall: 0.6167\n"
     ]
    },
    {
     "name": "stdout",
     "output_type": "stream",
     "text": [
      "Epoch 3/10\n",
      "68/68 [==============================] - 5s 71ms/step - loss: 0.5447 - accuracy: 0.7870 - precision: 0.8200 - recall: 0.7468 - val_loss: 0.5628 - val_accuracy: 0.7944 - val_precision: 0.8202 - val_recall: 0.7519\n",
      "Epoch 4/10\n",
      "68/68 [==============================] - 5s 73ms/step - loss: 0.4592 - accuracy: 0.8194 - precision: 0.8470 - recall: 0.7921 - val_loss: 0.4997 - val_accuracy: 0.8333 - val_precision: 0.8390 - val_recall: 0.8204\n",
      "Epoch 5/10\n",
      "68/68 [==============================] - 5s 74ms/step - loss: 0.3712 - accuracy: 0.8560 - precision: 0.8725 - recall: 0.8394 - val_loss: 0.5408 - val_accuracy: 0.8222 - val_precision: 0.8359 - val_recall: 0.8019\n",
      "Epoch 6/10\n",
      "68/68 [==============================] - 5s 72ms/step - loss: 0.3265 - accuracy: 0.8810 - precision: 0.8901 - recall: 0.8662 - val_loss: 0.5648 - val_accuracy: 0.8389 - val_precision: 0.8431 - val_recall: 0.8259\n",
      "Epoch 7/10\n",
      "68/68 [==============================] - 5s 72ms/step - loss: 0.2838 - accuracy: 0.8917 - precision: 0.9031 - recall: 0.8801 - val_loss: 0.5551 - val_accuracy: 0.8426 - val_precision: 0.8488 - val_recall: 0.8315\n",
      "Epoch 7: early stopping\n",
      "17/17 [==============================] - 1s 15ms/step\n",
      "              precision    recall  f1-score   support\n",
      "\n",
      "           0       0.79      0.90      0.84       183\n",
      "           1       0.84      0.88      0.86       154\n",
      "           2       0.90      0.76      0.83       203\n",
      "\n",
      "    accuracy                           0.84       540\n",
      "   macro avg       0.85      0.85      0.84       540\n",
      "weighted avg       0.85      0.84      0.84       540\n",
      "\n",
      "=================================================\n",
      "Epoch 1/10\n",
      "68/68 [==============================] - 7s 82ms/step - loss: 1.0490 - accuracy: 0.4954 - precision: 0.5426 - recall: 0.3625 - val_loss: 0.8101 - val_accuracy: 0.6315 - val_precision: 0.7066 - val_recall: 0.5130\n",
      "Epoch 2/10\n",
      "68/68 [==============================] - 5s 73ms/step - loss: 0.7155 - accuracy: 0.6935 - precision: 0.7434 - recall: 0.6102 - val_loss: 0.7550 - val_accuracy: 0.7130 - val_precision: 0.7331 - val_recall: 0.6815\n",
      "Epoch 3/10\n",
      "68/68 [==============================] - 5s 73ms/step - loss: 0.5715 - accuracy: 0.7731 - precision: 0.8081 - recall: 0.7310 - val_loss: 0.5603 - val_accuracy: 0.7722 - val_precision: 0.8040 - val_recall: 0.7370\n",
      "Epoch 4/10\n",
      "68/68 [==============================] - 5s 72ms/step - loss: 0.4441 - accuracy: 0.8259 - precision: 0.8493 - recall: 0.8037 - val_loss: 0.5576 - val_accuracy: 0.8019 - val_precision: 0.8135 - val_recall: 0.7833\n",
      "Epoch 5/10\n",
      "68/68 [==============================] - 5s 73ms/step - loss: 0.3483 - accuracy: 0.8718 - precision: 0.8875 - recall: 0.8509 - val_loss: 0.5323 - val_accuracy: 0.8278 - val_precision: 0.8336 - val_recall: 0.8259\n",
      "Epoch 6/10\n",
      "68/68 [==============================] - 5s 73ms/step - loss: 0.2946 - accuracy: 0.8972 - precision: 0.9100 - recall: 0.8843 - val_loss: 0.4750 - val_accuracy: 0.8537 - val_precision: 0.8628 - val_recall: 0.8500\n",
      "Epoch 7/10\n",
      "68/68 [==============================] - 5s 73ms/step - loss: 0.2602 - accuracy: 0.9069 - precision: 0.9153 - recall: 0.9000 - val_loss: 0.5417 - val_accuracy: 0.8481 - val_precision: 0.8574 - val_recall: 0.8463\n",
      "Epoch 8/10\n",
      "68/68 [==============================] - 5s 73ms/step - loss: 0.2353 - accuracy: 0.9130 - precision: 0.9209 - recall: 0.9056 - val_loss: 0.5580 - val_accuracy: 0.8407 - val_precision: 0.8411 - val_recall: 0.8333\n",
      "Epoch 9/10\n",
      "68/68 [==============================] - 5s 76ms/step - loss: 0.2089 - accuracy: 0.9236 - precision: 0.9304 - recall: 0.9162 - val_loss: 0.5551 - val_accuracy: 0.8407 - val_precision: 0.8618 - val_recall: 0.8315\n",
      "Epoch 9: early stopping\n",
      "17/17 [==============================] - 1s 15ms/step\n",
      "              precision    recall  f1-score   support\n",
      "\n",
      "           0       0.90      0.73      0.81       177\n",
      "           1       0.87      0.93      0.90       191\n",
      "           2       0.77      0.86      0.81       172\n",
      "\n",
      "    accuracy                           0.84       540\n",
      "   macro avg       0.85      0.84      0.84       540\n",
      "weighted avg       0.85      0.84      0.84       540\n",
      "\n",
      "=================================================\n",
      "\n",
      "Rata-rata Akurasi:  85.4815\n",
      "Rata-rata Precision:  85.5992\n",
      "Rata-rata Recall:  85.484\n",
      "Rata-rata F1-score:  85.3119\n",
      "Rata-rata Loss: 0.5313\n"
     ]
    }
   ],
   "source": [
    "kf = KFold(n_splits=5,random_state=42,shuffle=True)\n",
    "\n",
    "UNITS = 128\n",
    "\n",
    "X = data_pad\n",
    "y = Y\n",
    "\n",
    "accuracy_scores = []\n",
    "precision_scores = []\n",
    "recall_scores = []\n",
    "f1_scores = []\n",
    "loss_scores = []\n",
    "\n",
    "for train_index, test_index in kf.split(X):\n",
    "    X_train, X_test = X[train_index], X[test_index]\n",
    "    y_train, y_test = y[train_index], y[test_index]\n",
    "    \n",
    "    tf.keras.backend.clear_session()\n",
    "\n",
    "    model = Sequential()\n",
    "    model.add(Embedding(\n",
    "        input_dim = WV_DICTIONARY_SIZE,\n",
    "        output_dim = EMBEDDING_SIZE,\n",
    "        input_length = MAX_SEQ_LENGTH,\n",
    "        #trainable = True,\n",
    "        embeddings_initializer=Constant(EMBEDDING_MATRIX)))\n",
    "    model.add(GRU(UNITS, dropout=0.5, return_sequences=False))\n",
    "    model.add(Dense(NUM_CLASS, activation='softmax'))\n",
    "    \n",
    "    METRICS = [\n",
    "           tf.keras.metrics.CategoricalAccuracy(name='accuracy'),\n",
    "           tf.keras.metrics.Precision(name='precision'),\n",
    "           tf.keras.metrics.Recall(name='recall')\n",
    "    ]\n",
    "\n",
    "    LEARNING_RATE = 0.005\n",
    "\n",
    "    OPTIMIZER = Adam(learning_rate=LEARNING_RATE)\n",
    "    LOSS_FUNCTION = CategoricalCrossentropy(name='categorical_crossentropy')\n",
    "\n",
    "    model.compile(loss=LOSS_FUNCTION, optimizer=OPTIMIZER, metrics=METRICS)\n",
    "    \n",
    "    early_stopping = EarlyStopping(monitor='val_loss', mode='auto', verbose=1, patience=3)\n",
    "    \n",
    "    EPOCHS = 10\n",
    "    BATCH_SIZE = 32\n",
    "\n",
    "    model_history = model.fit(\n",
    "        X_train, \n",
    "        y_train, \n",
    "        epochs=EPOCHS,\n",
    "        batch_size=BATCH_SIZE, \n",
    "        validation_data=(X_test, y_test), \n",
    "        verbose=1, \n",
    "        steps_per_epoch=int(np.ceil(X_train.shape[0] / BATCH_SIZE)),\n",
    "        callbacks=[early_stopping]\n",
    "    )\n",
    "    \n",
    "    y_pred = np.argmax(model.predict(X_test), axis=1)\n",
    "    y_true = np.argmax(y_test, axis=1)\n",
    "    \n",
    "    print(classification_report(y_true, y_pred))\n",
    "    print(\"=================================================\")\n",
    "    \n",
    "    evaluation = model.evaluate(X_test, y_test, verbose=0)\n",
    "    accuracy_scores.append(accuracy_score(y_true, y_pred))\n",
    "    precision_scores.append(precision_score(y_true, y_pred, average='macro'))\n",
    "    recall_scores.append(recall_score(y_true, y_pred, average='macro'))\n",
    "    f1_scores.append(f1_score(y_true, y_pred, average='macro'))\n",
    "    loss_scores.append(evaluation[0])\n",
    "    \n",
    "print()\n",
    "avg_accuracy = np.mean(accuracy_scores)*100\n",
    "avg_precision = np.mean(precision_scores)*100\n",
    "avg_recall = np.mean(recall_scores)*100\n",
    "avg_f1 = np.mean(f1_scores)*100\n",
    "avg_loss = sum(loss_scores) / len(loss_scores)\n",
    "print(\"Rata-rata Akurasi: \", round(avg_accuracy,4))\n",
    "print(\"Rata-rata Precision: \", round(avg_precision,4))\n",
    "print(\"Rata-rata Recall: \", round(avg_recall,4))\n",
    "print(\"Rata-rata F1-score: \", round(avg_f1,4))\n",
    "print(\"Rata-rata Loss: {:.4f}\".format(avg_loss))\n"
   ]
  },
  {
   "cell_type": "markdown",
   "metadata": {
    "id": "qFLK6n2k3vz6"
   },
   "source": [
    "### Bi-GRU"
   ]
  },
  {
   "cell_type": "code",
   "execution_count": 52,
   "metadata": {},
   "outputs": [],
   "source": [
    "UNITS = 128\n",
    "\n",
    "tf.keras.backend.clear_session()\n",
    "\n",
    "model = Sequential()\n",
    "model.add(Embedding(\n",
    "    input_dim = WV_DICTIONARY_SIZE,\n",
    "    output_dim = EMBEDDING_SIZE,\n",
    "    input_length = MAX_SEQ_LENGTH,\n",
    "    #trainable = False,\n",
    "    embeddings_initializer=Constant(EMBEDDING_MATRIX)))\n",
    "model.add(Bidirectional(GRU(UNITS, dropout=0.5, return_sequences=False)))\n",
    "model.add(Dense(UNITS))\n",
    "#model.add(Dropout(0.5))\n",
    "model.add(Dense(NUM_CLASS, activation='softmax'))"
   ]
  },
  {
   "cell_type": "code",
   "execution_count": 39,
   "metadata": {},
   "outputs": [
    {
     "name": "stdout",
     "output_type": "stream",
     "text": [
      "Epoch 1/10\n",
      "68/68 [==============================] - 31s 184ms/step - loss: 1.0001 - accuracy: 0.4940 - precision: 0.5693 - recall: 0.2949 - val_loss: 0.8334 - val_accuracy: 0.6167 - val_precision: 0.6609 - val_recall: 0.4981\n",
      "Epoch 2/10\n",
      "68/68 [==============================] - 10s 151ms/step - loss: 0.7717 - accuracy: 0.6597 - precision: 0.7085 - recall: 0.5671 - val_loss: 0.7111 - val_accuracy: 0.6944 - val_precision: 0.7298 - val_recall: 0.6352\n",
      "Epoch 3/10\n",
      "68/68 [==============================] - 10s 146ms/step - loss: 0.6274 - accuracy: 0.7403 - precision: 0.7734 - recall: 0.6935 - val_loss: 0.6060 - val_accuracy: 0.7593 - val_precision: 0.7778 - val_recall: 0.7130\n",
      "Epoch 4/10\n",
      "68/68 [==============================] - 10s 145ms/step - loss: 0.5114 - accuracy: 0.7884 - precision: 0.8142 - recall: 0.7588 - val_loss: 0.6354 - val_accuracy: 0.7796 - val_precision: 0.7886 - val_recall: 0.7667\n",
      "Epoch 5/10\n",
      "68/68 [==============================] - 10s 146ms/step - loss: 0.4624 - accuracy: 0.8171 - precision: 0.8357 - recall: 0.7935 - val_loss: 0.5475 - val_accuracy: 0.8056 - val_precision: 0.8194 - val_recall: 0.7815\n",
      "Epoch 6/10\n",
      "68/68 [==============================] - 10s 145ms/step - loss: 0.3697 - accuracy: 0.8606 - precision: 0.8701 - recall: 0.8463 - val_loss: 0.4895 - val_accuracy: 0.8352 - val_precision: 0.8498 - val_recall: 0.8278\n",
      "Epoch 7/10\n",
      "68/68 [==============================] - 10s 143ms/step - loss: 0.3362 - accuracy: 0.8685 - precision: 0.8823 - recall: 0.8537 - val_loss: 0.5364 - val_accuracy: 0.8093 - val_precision: 0.8177 - val_recall: 0.8056\n",
      "Epoch 8/10\n",
      "68/68 [==============================] - 10s 141ms/step - loss: 0.3368 - accuracy: 0.8667 - precision: 0.8722 - recall: 0.8528 - val_loss: 0.5025 - val_accuracy: 0.8370 - val_precision: 0.8425 - val_recall: 0.8222\n",
      "Epoch 9/10\n",
      "68/68 [==============================] - 10s 150ms/step - loss: 0.2675 - accuracy: 0.8968 - precision: 0.9041 - recall: 0.8856 - val_loss: 0.5979 - val_accuracy: 0.8074 - val_precision: 0.8094 - val_recall: 0.7944\n",
      "Epoch 9: early stopping\n",
      "17/17 [==============================] - 1s 36ms/step\n",
      "              precision    recall  f1-score   support\n",
      "\n",
      "           0       0.93      0.65      0.77       187\n",
      "           1       0.77      0.91      0.83       163\n",
      "           2       0.77      0.87      0.81       190\n",
      "\n",
      "    accuracy                           0.81       540\n",
      "   macro avg       0.82      0.81      0.81       540\n",
      "weighted avg       0.82      0.81      0.80       540\n",
      "\n",
      "=================================================\n",
      "Epoch 1/10\n",
      "68/68 [==============================] - 14s 157ms/step - loss: 0.9912 - accuracy: 0.5074 - precision: 0.5777 - recall: 0.3065 - val_loss: 0.7944 - val_accuracy: 0.6241 - val_precision: 0.6503 - val_recall: 0.5648\n",
      "Epoch 2/10\n",
      "68/68 [==============================] - 10s 141ms/step - loss: 0.7927 - accuracy: 0.6435 - precision: 0.6978 - recall: 0.5634 - val_loss: 0.7801 - val_accuracy: 0.6463 - val_precision: 0.6673 - val_recall: 0.6056\n",
      "Epoch 3/10\n",
      "68/68 [==============================] - 9s 139ms/step - loss: 0.6446 - accuracy: 0.7264 - precision: 0.7628 - recall: 0.6713 - val_loss: 0.6246 - val_accuracy: 0.7130 - val_precision: 0.7627 - val_recall: 0.6667\n",
      "Epoch 4/10\n",
      "68/68 [==============================] - 9s 139ms/step - loss: 0.5032 - accuracy: 0.7894 - precision: 0.8171 - recall: 0.7630 - val_loss: 0.5779 - val_accuracy: 0.7593 - val_precision: 0.8038 - val_recall: 0.7130\n",
      "Epoch 5/10\n",
      "68/68 [==============================] - 9s 138ms/step - loss: 0.4677 - accuracy: 0.8194 - precision: 0.8397 - recall: 0.7884 - val_loss: 0.6258 - val_accuracy: 0.7648 - val_precision: 0.7757 - val_recall: 0.7556\n",
      "Epoch 6/10\n",
      "68/68 [==============================] - 9s 136ms/step - loss: 0.3771 - accuracy: 0.8477 - precision: 0.8683 - recall: 0.8273 - val_loss: 0.5569 - val_accuracy: 0.7963 - val_precision: 0.8099 - val_recall: 0.7889\n",
      "Epoch 7/10\n",
      "68/68 [==============================] - 9s 135ms/step - loss: 0.3347 - accuracy: 0.8727 - precision: 0.8821 - recall: 0.8588 - val_loss: 0.5545 - val_accuracy: 0.8037 - val_precision: 0.8164 - val_recall: 0.7907\n",
      "Epoch 8/10\n",
      "68/68 [==============================] - 9s 134ms/step - loss: 0.3230 - accuracy: 0.8787 - precision: 0.8886 - recall: 0.8681 - val_loss: 0.4975 - val_accuracy: 0.8222 - val_precision: 0.8336 - val_recall: 0.8167\n",
      "Epoch 9/10\n",
      "68/68 [==============================] - 9s 135ms/step - loss: 0.2939 - accuracy: 0.8880 - precision: 0.8982 - recall: 0.8787 - val_loss: 0.5374 - val_accuracy: 0.8352 - val_precision: 0.8390 - val_recall: 0.8204\n",
      "Epoch 10/10\n",
      "68/68 [==============================] - 9s 137ms/step - loss: 0.2617 - accuracy: 0.8991 - precision: 0.9081 - recall: 0.8926 - val_loss: 0.5495 - val_accuracy: 0.8611 - val_precision: 0.8719 - val_recall: 0.8574\n",
      "17/17 [==============================] - 1s 34ms/step\n",
      "              precision    recall  f1-score   support\n",
      "\n",
      "           0       0.85      0.80      0.82       181\n",
      "           1       0.87      0.92      0.89       183\n",
      "           2       0.86      0.87      0.86       176\n",
      "\n",
      "    accuracy                           0.86       540\n",
      "   macro avg       0.86      0.86      0.86       540\n",
      "weighted avg       0.86      0.86      0.86       540\n",
      "\n",
      "=================================================\n",
      "Epoch 1/10\n",
      "68/68 [==============================] - 14s 157ms/step - loss: 1.0062 - accuracy: 0.4917 - precision: 0.5666 - recall: 0.3032 - val_loss: 0.8508 - val_accuracy: 0.6130 - val_precision: 0.6873 - val_recall: 0.4519\n",
      "Epoch 2/10\n",
      "68/68 [==============================] - 10s 140ms/step - loss: 0.7639 - accuracy: 0.6602 - precision: 0.7183 - recall: 0.5644 - val_loss: 0.7847 - val_accuracy: 0.6630 - val_precision: 0.6905 - val_recall: 0.6074\n",
      "Epoch 3/10\n",
      "68/68 [==============================] - 9s 136ms/step - loss: 0.6186 - accuracy: 0.7431 - precision: 0.7766 - recall: 0.6903 - val_loss: 0.6845 - val_accuracy: 0.7574 - val_precision: 0.7683 - val_recall: 0.7000\n",
      "Epoch 4/10\n",
      "68/68 [==============================] - 9s 139ms/step - loss: 0.5073 - accuracy: 0.7977 - precision: 0.8202 - recall: 0.7690 - val_loss: 0.5638 - val_accuracy: 0.7889 - val_precision: 0.8153 - val_recall: 0.7685\n",
      "Epoch 5/10\n",
      "68/68 [==============================] - 9s 137ms/step - loss: 0.4307 - accuracy: 0.8370 - precision: 0.8548 - recall: 0.8014 - val_loss: 0.6394 - val_accuracy: 0.7722 - val_precision: 0.7850 - val_recall: 0.7574\n",
      "Epoch 6/10\n",
      "68/68 [==============================] - 10s 140ms/step - loss: 0.4126 - accuracy: 0.8310 - precision: 0.8495 - recall: 0.8153 - val_loss: 0.6332 - val_accuracy: 0.7852 - val_precision: 0.8075 - val_recall: 0.7537\n",
      "Epoch 7/10\n",
      "68/68 [==============================] - 10s 142ms/step - loss: 0.3410 - accuracy: 0.8708 - precision: 0.8850 - recall: 0.8519 - val_loss: 0.5663 - val_accuracy: 0.8352 - val_precision: 0.8464 - val_recall: 0.8167\n",
      "Epoch 7: early stopping\n",
      "17/17 [==============================] - 1s 32ms/step\n",
      "              precision    recall  f1-score   support\n",
      "\n",
      "           0       0.84      0.80      0.82       172\n",
      "           1       0.87      0.85      0.86       209\n",
      "           2       0.79      0.86      0.82       159\n",
      "\n",
      "    accuracy                           0.84       540\n",
      "   macro avg       0.83      0.83      0.83       540\n",
      "weighted avg       0.84      0.84      0.84       540\n",
      "\n",
      "=================================================\n",
      "Epoch 1/10\n",
      "68/68 [==============================] - 18s 212ms/step - loss: 0.9992 - accuracy: 0.5074 - precision: 0.5916 - recall: 0.2991 - val_loss: 0.8477 - val_accuracy: 0.6315 - val_precision: 0.6992 - val_recall: 0.5167\n",
      "Epoch 2/10\n",
      "68/68 [==============================] - 13s 180ms/step - loss: 0.7644 - accuracy: 0.6657 - precision: 0.7199 - recall: 0.5722 - val_loss: 0.7902 - val_accuracy: 0.6463 - val_precision: 0.7282 - val_recall: 0.5111\n",
      "Epoch 3/10\n",
      "68/68 [==============================] - 12s 178ms/step - loss: 0.6369 - accuracy: 0.7319 - precision: 0.7719 - recall: 0.6782 - val_loss: 0.6698 - val_accuracy: 0.7111 - val_precision: 0.7449 - val_recall: 0.6759\n",
      "Epoch 4/10\n",
      "68/68 [==============================] - 12s 175ms/step - loss: 0.5275 - accuracy: 0.7829 - precision: 0.8095 - recall: 0.7435 - val_loss: 0.6004 - val_accuracy: 0.8056 - val_precision: 0.8244 - val_recall: 0.7648\n"
     ]
    },
    {
     "name": "stdout",
     "output_type": "stream",
     "text": [
      "Epoch 5/10\n",
      "68/68 [==============================] - 12s 176ms/step - loss: 0.4485 - accuracy: 0.8181 - precision: 0.8409 - recall: 0.7903 - val_loss: 0.5050 - val_accuracy: 0.8167 - val_precision: 0.8353 - val_recall: 0.7704\n",
      "Epoch 6/10\n",
      "68/68 [==============================] - 12s 177ms/step - loss: 0.3710 - accuracy: 0.8560 - precision: 0.8697 - recall: 0.8407 - val_loss: 0.4777 - val_accuracy: 0.8259 - val_precision: 0.8426 - val_recall: 0.8130\n",
      "Epoch 7/10\n",
      "68/68 [==============================] - 12s 180ms/step - loss: 0.3511 - accuracy: 0.8611 - precision: 0.8714 - recall: 0.8505 - val_loss: 0.4761 - val_accuracy: 0.8315 - val_precision: 0.8496 - val_recall: 0.8056\n",
      "Epoch 8/10\n",
      "68/68 [==============================] - 12s 170ms/step - loss: 0.3198 - accuracy: 0.8796 - precision: 0.8912 - recall: 0.8606 - val_loss: 0.4902 - val_accuracy: 0.8611 - val_precision: 0.8691 - val_recall: 0.8481\n",
      "Epoch 9/10\n",
      "68/68 [==============================] - 12s 172ms/step - loss: 0.2539 - accuracy: 0.9000 - precision: 0.9073 - recall: 0.8931 - val_loss: 0.5462 - val_accuracy: 0.8500 - val_precision: 0.8580 - val_recall: 0.8389\n",
      "Epoch 10/10\n",
      "68/68 [==============================] - 12s 176ms/step - loss: 0.2586 - accuracy: 0.9042 - precision: 0.9130 - recall: 0.8991 - val_loss: 0.5042 - val_accuracy: 0.8630 - val_precision: 0.8726 - val_recall: 0.8500\n",
      "Epoch 10: early stopping\n",
      "17/17 [==============================] - 1s 50ms/step\n",
      "              precision    recall  f1-score   support\n",
      "\n",
      "           0       0.83      0.86      0.84       183\n",
      "           1       0.85      0.95      0.90       154\n",
      "           2       0.91      0.80      0.85       203\n",
      "\n",
      "    accuracy                           0.86       540\n",
      "   macro avg       0.86      0.87      0.86       540\n",
      "weighted avg       0.87      0.86      0.86       540\n",
      "\n",
      "=================================================\n",
      "Epoch 1/10\n",
      "68/68 [==============================] - 15s 178ms/step - loss: 1.0042 - accuracy: 0.4889 - precision: 0.5688 - recall: 0.2907 - val_loss: 0.8474 - val_accuracy: 0.6241 - val_precision: 0.7353 - val_recall: 0.4630\n",
      "Epoch 2/10\n",
      "68/68 [==============================] - 11s 166ms/step - loss: 0.7755 - accuracy: 0.6509 - precision: 0.7028 - recall: 0.5560 - val_loss: 0.7624 - val_accuracy: 0.6685 - val_precision: 0.6834 - val_recall: 0.6315\n",
      "Epoch 3/10\n",
      "68/68 [==============================] - 11s 165ms/step - loss: 0.6041 - accuracy: 0.7528 - precision: 0.7823 - recall: 0.7153 - val_loss: 0.5896 - val_accuracy: 0.7611 - val_precision: 0.7875 - val_recall: 0.7481\n",
      "Epoch 4/10\n",
      "68/68 [==============================] - 11s 166ms/step - loss: 0.4808 - accuracy: 0.8134 - precision: 0.8324 - recall: 0.7907 - val_loss: 0.5640 - val_accuracy: 0.7852 - val_precision: 0.8039 - val_recall: 0.7593\n",
      "Epoch 5/10\n",
      "68/68 [==============================] - 12s 169ms/step - loss: 0.4160 - accuracy: 0.8444 - precision: 0.8609 - recall: 0.8222 - val_loss: 0.5396 - val_accuracy: 0.8333 - val_precision: 0.8371 - val_recall: 0.8278\n",
      "Epoch 6/10\n",
      "68/68 [==============================] - 11s 168ms/step - loss: 0.3484 - accuracy: 0.8681 - precision: 0.8799 - recall: 0.8551 - val_loss: 0.5015 - val_accuracy: 0.8352 - val_precision: 0.8421 - val_recall: 0.8296\n",
      "Epoch 7/10\n",
      "68/68 [==============================] - 11s 164ms/step - loss: 0.3353 - accuracy: 0.8713 - precision: 0.8810 - recall: 0.8602 - val_loss: 0.4369 - val_accuracy: 0.8611 - val_precision: 0.8639 - val_recall: 0.8463\n",
      "Epoch 8/10\n",
      "68/68 [==============================] - 9s 134ms/step - loss: 0.3885 - accuracy: 0.8514 - precision: 0.8600 - recall: 0.8389 - val_loss: 0.5061 - val_accuracy: 0.8352 - val_precision: 0.8411 - val_recall: 0.8333\n",
      "Epoch 9/10\n",
      "68/68 [==============================] - 9s 135ms/step - loss: 0.2880 - accuracy: 0.8968 - precision: 0.9031 - recall: 0.8884 - val_loss: 0.4795 - val_accuracy: 0.8407 - val_precision: 0.8528 - val_recall: 0.8259\n",
      "Epoch 10/10\n",
      "68/68 [==============================] - 9s 139ms/step - loss: 0.2474 - accuracy: 0.9088 - precision: 0.9160 - recall: 0.8981 - val_loss: 0.4883 - val_accuracy: 0.8481 - val_precision: 0.8697 - val_recall: 0.8407\n",
      "Epoch 10: early stopping\n",
      "17/17 [==============================] - 1s 37ms/step\n",
      "              precision    recall  f1-score   support\n",
      "\n",
      "           0       0.82      0.81      0.82       177\n",
      "           1       0.87      0.92      0.89       191\n",
      "           2       0.85      0.80      0.83       172\n",
      "\n",
      "    accuracy                           0.85       540\n",
      "   macro avg       0.85      0.85      0.85       540\n",
      "weighted avg       0.85      0.85      0.85       540\n",
      "\n",
      "=================================================\n",
      "\n",
      "Rata-rata Akurasi:  84.2963\n",
      "Rata-rata Precision:  84.5303\n",
      "Rata-rata Recall:  84.4617\n",
      "Rata-rata F1-score:  84.1931\n",
      "Rata-rata Loss: 0.5413\n"
     ]
    }
   ],
   "source": [
    "kf = KFold(n_splits=5,random_state=42,shuffle=True)\n",
    "\n",
    "UNITS = 128\n",
    "\n",
    "X = data_pad\n",
    "y = Y\n",
    "\n",
    "accuracy_scores = []\n",
    "precision_scores = []\n",
    "recall_scores = []\n",
    "f1_scores = []\n",
    "loss_scores = []\n",
    "\n",
    "for train_index, test_index in kf.split(X):\n",
    "    X_train, X_test = X[train_index], X[test_index]\n",
    "    y_train, y_test = y[train_index], y[test_index]\n",
    "    \n",
    "    tf.keras.backend.clear_session()\n",
    "\n",
    "    model = Sequential()\n",
    "    model.add(Embedding(\n",
    "        input_dim = WV_DICTIONARY_SIZE,\n",
    "        output_dim = EMBEDDING_SIZE,\n",
    "        input_length = MAX_SEQ_LENGTH,\n",
    "        #trainable = True,\n",
    "        embeddings_initializer=Constant(EMBEDDING_MATRIX)))\n",
    "    model.add(Bidirectional(GRU(UNITS, dropout=0.5, return_sequences=False)))\n",
    "    model.add(Dense(UNITS, activation='relu'))\n",
    "    #model.add(Dropout(0.5))\n",
    "    model.add(Dense(NUM_CLASS, activation='softmax'))\n",
    "    \n",
    "    METRICS = [\n",
    "           tf.keras.metrics.CategoricalAccuracy(name='accuracy'),\n",
    "           tf.keras.metrics.Precision(name='precision'),\n",
    "           tf.keras.metrics.Recall(name='recall')\n",
    "    ]\n",
    "\n",
    "    LEARNING_RATE = 0.005\n",
    "\n",
    "    OPTIMIZER = Adam(learning_rate=LEARNING_RATE)\n",
    "    LOSS_FUNCTION = CategoricalCrossentropy(name='categorical_crossentropy')\n",
    "\n",
    "    model.compile(loss=LOSS_FUNCTION, optimizer=OPTIMIZER, metrics=METRICS)\n",
    "    \n",
    "    early_stopping = EarlyStopping(monitor='val_loss', mode='auto', verbose=1, patience=3)\n",
    "    \n",
    "    EPOCHS = 10\n",
    "    BATCH_SIZE = 32\n",
    "\n",
    "    model_history = model.fit(\n",
    "        X_train, \n",
    "        y_train, \n",
    "        epochs=EPOCHS,\n",
    "        batch_size=BATCH_SIZE, \n",
    "        validation_data=(X_test, y_test), \n",
    "        verbose=1, \n",
    "        steps_per_epoch=int(np.ceil(X_train.shape[0] / BATCH_SIZE)),\n",
    "        callbacks=[early_stopping]\n",
    "    )\n",
    "    \n",
    "    y_pred = np.argmax(model.predict(X_test), axis=1)\n",
    "    y_true = np.argmax(y_test, axis=1)\n",
    "    \n",
    "    print(classification_report(y_true, y_pred))\n",
    "    print(\"=================================================\")\n",
    "    \n",
    "    evaluation = model.evaluate(X_test, y_test, verbose=0)\n",
    "    accuracy_scores.append(accuracy_score(y_true, y_pred))\n",
    "    precision_scores.append(precision_score(y_true, y_pred, average='macro'))\n",
    "    recall_scores.append(recall_score(y_true, y_pred, average='macro'))\n",
    "    f1_scores.append(f1_score(y_true, y_pred, average='macro'))\n",
    "    loss_scores.append(evaluation[0])\n",
    "    \n",
    "print()\n",
    "avg_accuracy = np.mean(accuracy_scores)*100\n",
    "avg_precision = np.mean(precision_scores)*100\n",
    "avg_recall = np.mean(recall_scores)*100\n",
    "avg_f1 = np.mean(f1_scores)*100\n",
    "avg_loss = sum(loss_scores) / len(loss_scores)\n",
    "print(\"Rata-rata Akurasi: \", round(avg_accuracy,4))\n",
    "print(\"Rata-rata Precision: \", round(avg_precision,4))\n",
    "print(\"Rata-rata Recall: \", round(avg_recall,4))\n",
    "print(\"Rata-rata F1-score: \", round(avg_f1,4))\n",
    "print(\"Rata-rata Loss: {:.4f}\".format(avg_loss))\n"
   ]
  },
  {
   "cell_type": "code",
   "execution_count": 95,
   "metadata": {},
   "outputs": [
    {
     "name": "stdout",
     "output_type": "stream",
     "text": [
      "Model: \"sequential\"\n",
      "_________________________________________________________________\n",
      " Layer (type)                Output Shape              Param #   \n",
      "=================================================================\n",
      " embedding (Embedding)       (None, 70, 300)           1515300   \n",
      "                                                                 \n",
      " lstm (LSTM)                 (None, 128)               219648    \n",
      "                                                                 \n",
      " dense (Dense)               (None, 3)                 387       \n",
      "                                                                 \n",
      "=================================================================\n",
      "Total params: 1,735,335\n",
      "Trainable params: 1,735,335\n",
      "Non-trainable params: 0\n",
      "_________________________________________________________________\n"
     ]
    },
    {
     "data": {
      "image/png": "[encoded data removed]",
      "text/plain": [
       "<IPython.core.display.Image object>"
      ]
     },
     "execution_count": 95,
     "metadata": {},
     "output_type": "execute_result"
    }
   ],
   "source": [
    "model.summary()\n",
    "from keras.utils import plot_model\n",
    "plot_model(model, show_shapes=True, to_file='sent_analysis_model.png')"
   ]
  },
  {
   "cell_type": "markdown",
   "metadata": {},
   "source": [
    "## Compile"
   ]
  },
  {
   "cell_type": "code",
   "execution_count": 96,
   "metadata": {},
   "outputs": [],
   "source": [
    "# https://www.tensorflow.org/api_docs/python/tf/keras/metrics\n",
    "\n",
    "METRICS = [\n",
    "           tf.keras.metrics.CategoricalAccuracy(name='accuracy'),\n",
    "           tf.keras.metrics.Precision(name='precision'),\n",
    "           tf.keras.metrics.Recall(name='recall'), \n",
    "]\n",
    "\n",
    "LEARNING_RATE = 0.005\n",
    "\n",
    "OPTIMIZER = Adam(learning_rate=LEARNING_RATE)\n",
    "LOSS_FUNCTION = CategoricalCrossentropy(name='categorical_crossentropy')\n",
    "#LOSS_FUNCTION = BinaryCrossentropy(name='binary_crossentropy')\n",
    "\n",
    "model.compile(loss=LOSS_FUNCTION, optimizer=OPTIMIZER, metrics=METRICS)"
   ]
  },
  {
   "cell_type": "markdown",
   "metadata": {},
   "source": [
    "## Early Stopping"
   ]
  },
  {
   "cell_type": "code",
   "execution_count": 97,
   "metadata": {},
   "outputs": [],
   "source": [
    "# Early stopping criteria\n",
    "early_stopping = EarlyStopping(monitor='val_loss', mode='auto', verbose=1, patience=3)\n",
    "\n",
    "# Path to model checkpoint\n",
    "checkpoint_dir = f'{FOLDER_PATH}/model-checkpoint/{MODEL}/cp.ckpt'\n",
    "model_checkpoint = ModelCheckpoint(checkpoint_dir, monitor='val_accuracy', save_weights_only=True, verbose=1, save_freq='epoch', save_best_only=True)"
   ]
  },
  {
   "cell_type": "code",
   "execution_count": 60,
   "metadata": {},
   "outputs": [],
   "source": [
    "\n",
    "early_stopping = EarlyStopping(\n",
    "    restore_best_weights=True,\n",
    "    patience=3, \n",
    "    min_delta=0.01, \n",
    "    mode='max',\n",
    "    monitor='val_loss'\n",
    ")"
   ]
  },
  {
   "cell_type": "code",
   "execution_count": 90,
   "metadata": {},
   "outputs": [
    {
     "name": "stdout",
     "output_type": "stream",
     "text": [
      "model-baseline-bilstm/model-log/id-wiki-word2vec-bilstm/20231110-003237\n"
     ]
    }
   ],
   "source": [
    "# Path to model log\n",
    "log_dir = f'{FOLDER_PATH}/model-log/{MODEL}/' + datetime.datetime.now().strftime('%Y%m%d-%H%M%S')\n",
    "print(log_dir)"
   ]
  },
  {
   "cell_type": "code",
   "execution_count": 91,
   "metadata": {},
   "outputs": [],
   "source": [
    "tensorboard_callback = TensorBoard(log_dir=log_dir ,update_freq='epoch', histogram_freq=1, embeddings_freq=1)"
   ]
  },
  {
   "cell_type": "markdown",
   "metadata": {
    "id": "LwrUJHGY4PA1"
   },
   "source": [
    "## Training dan Testing"
   ]
  },
  {
   "cell_type": "markdown",
   "metadata": {},
   "source": [
    "### Training"
   ]
  },
  {
   "cell_type": "code",
   "execution_count": 98,
   "metadata": {},
   "outputs": [
    {
     "name": "stdout",
     "output_type": "stream",
     "text": [
      "Epoch 1/10\n",
      "68/68 [==============================] - 6s 65ms/step - loss: 0.9729 - accuracy: 0.5389 - precision: 0.6137 - recall: 0.3287 - val_loss: 0.7848 - val_accuracy: 0.6704 - val_precision: 0.7117 - val_recall: 0.5167\n",
      "Epoch 2/10\n",
      "68/68 [==============================] - 4s 59ms/step - loss: 0.7039 - accuracy: 0.6875 - precision: 0.7369 - recall: 0.6056 - val_loss: 0.6308 - val_accuracy: 0.7389 - val_precision: 0.7716 - val_recall: 0.6944\n",
      "Epoch 3/10\n",
      "68/68 [==============================] - 4s 61ms/step - loss: 0.5459 - accuracy: 0.7815 - precision: 0.8124 - recall: 0.7380 - val_loss: 0.5641 - val_accuracy: 0.7685 - val_precision: 0.7925 - val_recall: 0.7426\n",
      "Epoch 4/10\n",
      "68/68 [==============================] - 4s 63ms/step - loss: 0.4267 - accuracy: 0.8315 - precision: 0.8521 - recall: 0.8056 - val_loss: 0.5134 - val_accuracy: 0.8093 - val_precision: 0.8212 - val_recall: 0.7907\n",
      "Epoch 5/10\n",
      "68/68 [==============================] - 4s 61ms/step - loss: 0.3527 - accuracy: 0.8616 - precision: 0.8751 - recall: 0.8435 - val_loss: 0.4523 - val_accuracy: 0.8481 - val_precision: 0.8563 - val_recall: 0.8389\n",
      "Epoch 6/10\n",
      "68/68 [==============================] - 4s 61ms/step - loss: 0.2789 - accuracy: 0.9019 - precision: 0.9121 - recall: 0.8931 - val_loss: 0.4867 - val_accuracy: 0.8407 - val_precision: 0.8512 - val_recall: 0.8370\n",
      "Epoch 7/10\n",
      "68/68 [==============================] - 4s 62ms/step - loss: 0.2400 - accuracy: 0.9157 - precision: 0.9249 - recall: 0.9060 - val_loss: 0.4716 - val_accuracy: 0.8574 - val_precision: 0.8601 - val_recall: 0.8537\n",
      "Epoch 8/10\n",
      "68/68 [==============================] - 4s 64ms/step - loss: 0.1883 - accuracy: 0.9343 - precision: 0.9410 - recall: 0.9296 - val_loss: 0.4396 - val_accuracy: 0.8685 - val_precision: 0.8680 - val_recall: 0.8648\n",
      "Epoch 9/10\n",
      "68/68 [==============================] - 4s 62ms/step - loss: 0.1771 - accuracy: 0.9412 - precision: 0.9463 - recall: 0.9389 - val_loss: 0.5058 - val_accuracy: 0.8537 - val_precision: 0.8582 - val_recall: 0.8519\n",
      "Epoch 10/10\n",
      "68/68 [==============================] - 4s 62ms/step - loss: 0.1785 - accuracy: 0.9375 - precision: 0.9405 - recall: 0.9301 - val_loss: 0.5094 - val_accuracy: 0.8704 - val_precision: 0.8704 - val_recall: 0.8704\n",
      "CPU times: total: 4min 34s\n",
      "Wall time: 44 s\n"
     ]
    }
   ],
   "source": [
    "%%time\n",
    "EPOCHS = 10\n",
    "BATCH_SIZE = 32\n",
    "\n",
    "model_history = model.fit(\n",
    "    X_train, \n",
    "    y_train, \n",
    "    epochs=EPOCHS,\n",
    "    batch_size=BATCH_SIZE, \n",
    "    validation_data=(X_test, y_test), \n",
    "    verbose=1, \n",
    "    steps_per_epoch=int(np.ceil(X_train.shape[0] / BATCH_SIZE)),\n",
    "    callbacks=[early_stopping]\n",
    ")"
   ]
  },
  {
   "cell_type": "code",
   "execution_count": 35,
   "metadata": {},
   "outputs": [
    {
     "data": {
      "image/png": "[encoded data removed]",
      "text/plain": [
       "<Figure size 1200x1000 with 4 Axes>"
      ]
     },
     "metadata": {},
     "output_type": "display_data"
    }
   ],
   "source": [
    "def plot_metrics(history):\n",
    "  metrics = ['loss', 'accuracy', \n",
    "             'precision', 'recall'\n",
    "            ]\n",
    "  plt.figure(figsize=(12, 10))\n",
    "  for n, metric in enumerate(metrics):\n",
    "    name = metric.replace('_',' ').capitalize()\n",
    "    plt.subplot(2,2,n+1)\n",
    "    plt.plot(history.epoch, history.history[metric], color=colors[0], label='Train')\n",
    "    plt.plot(history.epoch, history.history['val_'+metric], color=colors[0], linestyle='--',label='Validation')\n",
    "    plt.xlabel('Epoch')\n",
    "    plt.ylabel(name)\n",
    "\n",
    "    if metric == 'loss':\n",
    "      plt.ylim([0, plt.ylim()[1]])\n",
    "    else:\n",
    "      plt.ylim([0,1])\n",
    "\n",
    "    plt.legend(loc='lower left');\n",
    "    \n",
    "plot_metrics(model_history)"
   ]
  },
  {
   "cell_type": "code",
   "execution_count": 58,
   "metadata": {},
   "outputs": [
    {
     "name": "stdout",
     "output_type": "stream",
     "text": [
      "       loss  accuracy  precision    recall  val_loss  val_accuracy  \\\n",
      "0  0.973912  0.513426   0.593548  0.298148  0.847103      0.624074   \n",
      "1  0.752715  0.666204   0.709714  0.575000  0.778094      0.653704   \n",
      "2  0.588866  0.752778   0.781828  0.705093  0.653687      0.774074   \n",
      "3  0.524163  0.787500   0.810568  0.752778  0.574244      0.766667   \n",
      "4  0.401470  0.835648   0.849639  0.816204  0.500763      0.829630   \n",
      "5  0.323810  0.878704   0.888042  0.862963  0.497620      0.816667   \n",
      "6  0.258871  0.910185   0.918944  0.902778  0.505741      0.853704   \n",
      "7  0.250931  0.901852   0.909647  0.894907  0.451466      0.864815   \n",
      "8  0.217241  0.922222   0.926795  0.914352  0.495576      0.868519   \n",
      "9  0.205561  0.924074   0.929345  0.913426  0.487506      0.872222   \n",
      "\n",
      "   val_precision  val_recall  \n",
      "0       0.669516    0.435185  \n",
      "1       0.687898    0.600000  \n",
      "2       0.792608    0.714815  \n",
      "3       0.797217    0.742593  \n",
      "4       0.850000    0.818519  \n",
      "5       0.834615    0.803704  \n",
      "6       0.859023    0.846296  \n",
      "7       0.866038    0.850000  \n",
      "8       0.876635    0.868519  \n",
      "9       0.875000    0.868519  \n"
     ]
    }
   ],
   "source": [
    "hist_df = pd.DataFrame(model_history.history)\n",
    "print(hist_df)\n",
    "\n",
    "#hist_df.to_csv(f'{FOLDER_PATH}/model-history/{MODEL}-{TODAY}.csv')"
   ]
  },
  {
   "cell_type": "markdown",
   "metadata": {
    "id": "YiAqqxIS1tcl"
   },
   "source": [
    "# Evaluasi"
   ]
  },
  {
   "cell_type": "code",
   "execution_count": 93,
   "metadata": {},
   "outputs": [
    {
     "name": "stdout",
     "output_type": "stream",
     "text": [
      "17/17 [==============================] - 1s 13ms/step\n",
      "17/17 [==============================] - 0s 14ms/step - loss: 0.4833 - accuracy: 0.8611 - precision: 0.8654 - recall: 0.8574\n",
      "Accuracy: 86.11%\n"
     ]
    },
    {
     "data": {
      "text/plain": [
       "0.8613953500853927"
      ]
     },
     "execution_count": 93,
     "metadata": {},
     "output_type": "execute_result"
    }
   ],
   "source": [
    "y_pred = np.argmax(model.predict(X_test), axis=1)\n",
    "y_true = np.argmax(y_test, axis=1)\n",
    "\n",
    "loss, accuracy, precision, recall = model.evaluate(X_test, y_test)\n",
    "print(\"Accuracy: %.2f%%\" % (accuracy*100))\n",
    "\n",
    "f1_score = 2 * (precision * recall) / (precision + recall)\n",
    "f1_score"
   ]
  },
  {
   "cell_type": "markdown",
   "metadata": {
    "id": "aW02DNdh1w50"
   },
   "source": [
    "### Confusion Matriks"
   ]
  },
  {
   "cell_type": "code",
   "execution_count": 60,
   "metadata": {},
   "outputs": [
    {
     "data": {
      "image/png": "[encoded data removed]",
      "text/plain": [
       "<Figure size 800x600 with 2 Axes>"
      ]
     },
     "metadata": {},
     "output_type": "display_data"
    }
   ],
   "source": [
    "cm = confusion_matrix(y_true, y_pred)\n",
    "\n",
    "plt.figure(figsize=(8, 6))\n",
    "ax = plt.subplot()\n",
    "sns.heatmap(cm, annot=True, fmt='g', ax=ax, cmap='Blues')  # annot=True to annotate cells, ftm='g' to disable scientific notation\n",
    "\n",
    "ax.set_xlabel('Predicted labels')\n",
    "ax.set_ylabel('True labels') \n",
    "ax.set_title('Confusion Matrix')\n",
    "ax.xaxis.set_ticklabels(LABEL_NAME)\n",
    "ax.yaxis.set_ticklabels(LABEL_NAME)\n",
    "plt.tight_layout()"
   ]
  },
  {
   "cell_type": "code",
   "execution_count": 104,
   "metadata": {},
   "outputs": [
    {
     "name": "stdout",
     "output_type": "stream",
     "text": [
      "              precision    recall  f1-score   support\n",
      "\n",
      "     negatif       0.84      0.89      0.87       170\n",
      "      netral       0.96      0.92      0.94       186\n",
      "     positif       0.87      0.85      0.86       184\n",
      "\n",
      "    accuracy                           0.89       540\n",
      "   macro avg       0.89      0.89      0.89       540\n",
      "weighted avg       0.89      0.89      0.89       540\n",
      "\n"
     ]
    }
   ],
   "source": [
    "print(classification_report(y_pred, y_true, target_names=LABEL_NAME))"
   ]
  },
  {
   "cell_type": "code",
   "execution_count": 12,
   "metadata": {},
   "outputs": [
    {
     "data": {
      "image/png": "[encoded data removed]",
      "text/plain": [
       "<Figure size 640x480 with 1 Axes>"
      ]
     },
     "metadata": {},
     "output_type": "display_data"
    }
   ],
   "source": [
    "hidden = [32, 64, 128, 256]\n",
    "accuracies = [82.22, 84.44, 86.15, 85.15]  # Contoh nilai akurasi\n",
    "\n",
    "x = range(len(hidden))\n",
    "width = 0.6\n",
    "\n",
    "fig, ax = plt.subplots()\n",
    "ax.bar([i + 0.1 for i in x], accuracies, width, color='skyblue')\n",
    "ax.set_xlabel('Neuron')\n",
    "ax.set_ylabel('Accuracy')\n",
    "ax.set_title('Comparison of Neurons with Accuracy')\n",
    "ax.set_xticks([i + 0.1 for i in x])\n",
    "ax.set_xticklabels(hidden)\n",
    "\n",
    "# Menambahkan label persentase pada setiap bar\n",
    "for i, v in enumerate(accuracies):\n",
    "    ax.text(i + 0.1, v + 0.01, f'{v:.1f}%', ha='center')\n",
    "\n",
    "plt.show()"
   ]
  },
  {
   "cell_type": "code",
   "execution_count": 10,
   "metadata": {},
   "outputs": [
    {
     "data": {
      "image/png": "[encoded data removed]",
      "text/plain": [
       "<Figure size 640x480 with 1 Axes>"
      ]
     },
     "metadata": {},
     "output_type": "display_data"
    }
   ],
   "source": [
    "algorithms = ['RNN', 'LSTM', 'GRU', 'BiLSTM', 'BiGRU']\n",
    "accuracies = [71.74, 86.71, 87.44, 87.33, 88]  # Contoh nilai akurasi\n",
    "\n",
    "x = range(len(algorithms))\n",
    "width = 0.6\n",
    "\n",
    "fig, ax = plt.subplots()\n",
    "ax.bar([i + 0.1 for i in x], accuracies, width, color='skyblue')\n",
    "ax.set_xlabel('Algoritms')\n",
    "ax.set_ylabel('Accuracy')\n",
    "ax.set_title('Comparison Accuracy Model Deep Learning')\n",
    "ax.set_xticks([i + 0.1 for i in x])\n",
    "ax.set_xticklabels(algorithms)\n",
    "\n",
    "# Menambahkan label persentase pada setiap bar\n",
    "for i, v in enumerate(accuracies):\n",
    "    ax.text(i + 0.1, v + 0.01, f'{v:.1f}%', ha='center')\n",
    "\n",
    "plt.show()"
   ]
  },
  {
   "cell_type": "code",
   "execution_count": null,
   "metadata": {},
   "outputs": [],
   "source": []
  }
 ],
 "metadata": {
  "colab": {
   "provenance": []
  },
  "kernelspec": {
   "display_name": "Python [conda env:myenv] *",
   "language": "python",
   "name": "conda-env-myenv-py"
  },
  "language_info": {
   "codemirror_mode": {
    "name": "ipython",
    "version": 3
   },
   "file_extension": ".py",
   "mimetype": "text/x-python",
   "name": "python",
   "nbconvert_exporter": "python",
   "pygments_lexer": "ipython3",
   "version": "3.10.13"
  }
 },
 "nbformat": 4,
 "nbformat_minor": 1
}
